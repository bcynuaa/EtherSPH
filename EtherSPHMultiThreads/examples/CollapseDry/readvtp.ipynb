{
 "cells": [
  {
   "cell_type": "code",
   "execution_count": null,
   "metadata": {},
   "outputs": [],
   "source": [
    "import os\n",
    "import pyvista as pv\n",
    "pv.set_jupyter_backend('static')\n",
    "pv.start_xvfb()\n",
    "pv.set_plot_theme(\"document\")"
   ]
  },
  {
   "cell_type": "code",
   "execution_count": null,
   "metadata": {},
   "outputs": [],
   "source": [
    "file_path = \"CollapseDryData/\"\n",
    "file_list = os.listdir(file_path)\n",
    "file_list.sort()\n",
    "latest_file_name = file_list[-1]\n",
    "latest_file_name = file_path + latest_file_name\n",
    "print(latest_file_name)"
   ]
  },
  {
   "cell_type": "code",
   "execution_count": null,
   "metadata": {},
   "outputs": [],
   "source": [
    "# file = file_path + \"collapse422.vtp\"\n",
    "file = latest_file_name\n",
    "mesh = pv.read(file)\n",
    "mesh.point_data[\"VelocityX\"] = mesh.point_data[\"Velocity\"][:, 0]\n",
    "mesh.point_data[\"VelocityY\"] = mesh.point_data[\"Velocity\"][:, 1]\n",
    "mesh"
   ]
  },
  {
   "cell_type": "code",
   "execution_count": null,
   "metadata": {},
   "outputs": [],
   "source": [
    "plotter = pv.Plotter(notebook=True)\n",
    "plotter.add_mesh(mesh, scalars=\"Velocity\", cmap=\"jet\")\n",
    "plotter.add_title(str(mesh.field_data[\"Time\"][0]) + \"s\", font_size=15)\n",
    "plotter.camera_position = \"XY\"\n",
    "plotter.show(jupyter_backend=\"static\")"
   ]
  }
 ],
 "metadata": {
  "language_info": {
   "name": "python"
  }
 },
 "nbformat": 4,
 "nbformat_minor": 2
}
