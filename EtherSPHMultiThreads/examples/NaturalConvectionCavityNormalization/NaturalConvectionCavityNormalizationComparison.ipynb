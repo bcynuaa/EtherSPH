{
 "cells": [
  {
   "cell_type": "markdown",
   "metadata": {},
   "source": [
    "# Notes\n",
    "\n",
    "## Reynolds Number\n",
    "\n",
    "$$\n",
    "Re = \\frac{\\rho U L}{\\mu} = \\frac{U L}{\\nu}\n",
    "$$\n",
    "\n",
    "## Prantdl Number\n",
    "\n",
    "$$\n",
    "Pr = \\frac{\\nu}{\\alpha} = \\frac{\\mu}{\\rho \\alpha} = \\frac{\\mu C_p}{\\kappa}\n",
    "$$\n",
    "\n",
    "$$\n",
    "\\alpha = \\frac{\\kappa}{\\rho C_p}\n",
    "$$\n",
    " \n",
    "## Rayleigh Number\n",
    "\n",
    "$$\n",
    "Ra = \\frac{g \\beta \\Delta T L^3}{\\nu \\alpha}\n",
    "$$\n",
    "\n",
    "## Normalization?\n",
    "\n",
    "$$\n",
    "\\begin{aligned}\n",
    "&Pr=0.71\\\\\n",
    "&Ra=1e3\\\\\n",
    "&\\rho=1\\\\\n",
    "&g=1\\\\\n",
    "\\nu=\\frac{Pr}{\\sqrt{Ra}}&\\quad \\mu=\\rho \\nu\\\\\n",
    "&\\alpha=\\frac{\\nu}{Pr}\\\\\n",
    "&\\Delta T = 1\\\\\n",
    "&\\kappa=1\\\\\n",
    "&C_p=\\frac{\\kappa Ra}{\\mu}\\\\\n",
    "&\\beta=Pr = \\frac{Ra \\nu \\alpha}{g\\Delta T L^3}\n",
    "\\end{aligned}\n",
    "$$"
   ]
  },
  {
   "cell_type": "code",
   "execution_count": null,
   "metadata": {},
   "outputs": [],
   "source": [
    "import os\n",
    "import numpy as np\n",
    "import pyvista as pv\n",
    "import pandas as pd\n",
    "import matplotlib.pyplot as plt\n",
    "import scipy.interpolate as interpolate\n",
    "import scipy.integrate as integrate"
   ]
  },
  {
   "cell_type": "code",
   "execution_count": null,
   "metadata": {},
   "outputs": [],
   "source": [
    "ra_str = \"Ra1e6N100\"\n",
    "file_path = \"./NaturalConvectionCavityNormalizationData\" + ra_str\n",
    "file_list = os.listdir(file_path)\n",
    "file_list.sort()\n",
    "latest_file_name = file_list[-1]\n",
    "latest_file_name = os.path.abspath(os.path.join(file_path, latest_file_name))\n",
    "print(latest_file_name)"
   ]
  },
  {
   "cell_type": "code",
   "execution_count": null,
   "metadata": {},
   "outputs": [],
   "source": [
    "file = latest_file_name\n",
    "mesh = pv.read(file)\n",
    "mesh.point_data[\"VelocityX\"] = mesh.point_data[\"Velocity\"][:, 0]\n",
    "mesh.point_data[\"VelocityY\"] = mesh.point_data[\"Velocity\"][:, 1]\n",
    "mesh"
   ]
  },
  {
   "cell_type": "code",
   "execution_count": null,
   "metadata": {},
   "outputs": [],
   "source": [
    "num = 201\n",
    "xs = np.linspace(0, 1, num)\n",
    "ys = np.linspace(0, 1, num)\n",
    "points = []\n",
    "for y in ys:\n",
    "    for x in xs:\n",
    "        points.append([x, y, 0])\n",
    "        pass\n",
    "    pass\n",
    "points = np.array(points)\n",
    "grid = pv.PolyData(points)\n",
    "grid = grid.interpolate(mesh, radius=6/(num-1))"
   ]
  },
  {
   "cell_type": "code",
   "execution_count": null,
   "metadata": {},
   "outputs": [],
   "source": [
    "x = []\n",
    "y = []\n",
    "u = []\n",
    "v = []\n",
    "temperture = []\n",
    "for i in range(0, len(grid.points)):\n",
    "    x.append(grid.points[i][0])\n",
    "    y.append(grid.points[i][1])\n",
    "    u.append(grid.point_data[\"VelocityX\"][i])\n",
    "    v.append(grid.point_data[\"VelocityY\"][i])\n",
    "    temperture.append(grid.point_data[\"Temperature\"][i])\n",
    "    pass\n",
    "x = np.array(x)\n",
    "y = np.array(y)\n",
    "u = np.array(u)\n",
    "v = np.array(v)\n",
    "temperture = np.array(temperture)"
   ]
  },
  {
   "cell_type": "code",
   "execution_count": null,
   "metadata": {},
   "outputs": [],
   "source": [
    "plt.figure(figsize=(8, 6), facecolor=\"white\")\n",
    "plt.gca().set_aspect(\"equal\")\n",
    "ax = plt.contour(x.reshape(num, num), y.reshape(num, num), temperture.reshape(num, num), np.arange(1, 20)*0.05, colors=\"k\", linewidths=1)\n",
    "ax.clabel(fmt=\"%1.2f\", fontsize=10)\n",
    "plt.contourf(x.reshape(num, num), y.reshape(num, num), temperture.reshape(num, num), 101, cmap=\"rainbow\")\n",
    "plt.colorbar()\n",
    "plt.streamplot(x.reshape(num, num), y.reshape(num, num), u.reshape(num, num), v.reshape(num, num), color=\"white\", linewidth=1.2, density=1)\n",
    "plt.xlabel(\"$x$\", fontsize=15)\n",
    "plt.ylabel(\"$y$\", fontsize=15)\n",
    "plt.title(\"Time=%s %s\" % (str(mesh.field_data[\"Time\"][0]), ra_str), fontsize=15)\n",
    "plt.savefig(\"images/\"+ra_str+\".pdf\", bbox_inches=\"tight\", dpi=300)\n",
    "plt.savefig(\"images/\"+ra_str+\".png\", bbox_inches=\"tight\", dpi=300)\n",
    "plt.show()"
   ]
  },
  {
   "cell_type": "code",
   "execution_count": null,
   "metadata": {},
   "outputs": [],
   "source": [
    "mesh_dt = mesh.copy().delaunay_2d()\n",
    "mesh_dt = mesh_dt.compute_derivative(\"Temperature\", gradient=\"TemperatureGradient\")\n",
    "mesh_dt"
   ]
  },
  {
   "cell_type": "code",
   "execution_count": null,
   "metadata": {},
   "outputs": [],
   "source": [
    "left_wall_y = np.linspace(0, 1, num)\n",
    "left_wall_x = np.zeros_like(left_wall_y)\n",
    "left_wall_z = np.zeros_like(left_wall_y)\n",
    "left_wall_points = np.column_stack((left_wall_x, left_wall_y, left_wall_z))\n",
    "left_wall_points = pv.PolyData(left_wall_points)\n",
    "left_wall_mesh = left_wall_points.interpolate(mesh_dt, radius=3/(num-1))\n",
    "left_wall_dtdx = left_wall_mesh.point_data[\"TemperatureGradient\"][:, 0]\n",
    "left_wall_dtdx = np.array(left_wall_dtdx)\n",
    "left_wall_df = pd.DataFrame({\"y\": left_wall_mesh.points[:, 1], \"dtdx\": left_wall_dtdx})\n",
    "left_wall_df = left_wall_df.dropna()\n",
    "left_wall_df.T"
   ]
  },
  {
   "cell_type": "code",
   "execution_count": null,
   "metadata": {},
   "outputs": [],
   "source": [
    "left_wall_min_dtdx = left_wall_df[\"dtdx\"].values[0]\n",
    "left_wall_max_dtdx = left_wall_df[\"dtdx\"].values[-1]\n",
    "left_wall_interpolate = interpolate.interp1d(left_wall_df[\"y\"], left_wall_df[\"dtdx\"], kind=\"cubic\", fill_value=(left_wall_min_dtdx, left_wall_max_dtdx), bounds_error=False)\n",
    "left_wall_dtdx_interpolate = left_wall_interpolate(left_wall_y)\n",
    "left_wall_df_interpolate = pd.DataFrame({\"y\": left_wall_y, \"dtdx\": left_wall_dtdx_interpolate})\n",
    "left_wall_df_interpolate.T"
   ]
  },
  {
   "cell_type": "code",
   "execution_count": null,
   "metadata": {},
   "outputs": [],
   "source": [
    "nusselt_number = integrate.simps(left_wall_df_interpolate[\"dtdx\"], left_wall_df_interpolate[\"y\"])\n",
    "nusselt_number = np.abs(nusselt_number)\n",
    "nusselt_number"
   ]
  },
  {
   "cell_type": "code",
   "execution_count": null,
   "metadata": {},
   "outputs": [],
   "source": [
    "plt.figure(figsize=(8, 6), facecolor=\"white\")\n",
    "plt.plot(left_wall_df[\"y\"], left_wall_df[\"dtdx\"], \"o\", label=\"Original\", zorder=10, color=\"r\")\n",
    "plt.plot(left_wall_df_interpolate[\"y\"], left_wall_df_interpolate[\"dtdx\"], \"-\", label=\"Interpolate\", color=\"blue\")\n",
    "plt.xlabel(\"$y$\", fontsize=15)\n",
    "plt.ylabel(\"$\\\\frac{dT}{dx}$\", fontsize=15)\n",
    "plt.title(\"Left Wall $\\\\frac{dT}{dx}$, $Nu=$%s\" % str(np.round(nusselt_number, 5)), fontsize=15)\n",
    "plt.legend()\n",
    "plt.grid()\n",
    "plt.savefig(\"images/\"+ra_str+\"_left_wall_dtdx.pdf\", bbox_inches=\"tight\", dpi=300)\n",
    "plt.savefig(\"images/\"+ra_str+\"_left_wall_dtdx.png\", bbox_inches=\"tight\", dpi=300)\n",
    "plt.show()"
   ]
  },
  {
   "cell_type": "code",
   "execution_count": null,
   "metadata": {},
   "outputs": [],
   "source": []
  }
 ],
 "metadata": {
  "language_info": {
   "name": "python"
  }
 },
 "nbformat": 4,
 "nbformat_minor": 2
}
