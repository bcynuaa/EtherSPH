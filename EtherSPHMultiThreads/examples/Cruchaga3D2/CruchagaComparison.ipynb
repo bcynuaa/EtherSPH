{
 "cells": [
  {
   "cell_type": "code",
   "execution_count": null,
   "metadata": {},
   "outputs": [],
   "source": [
    "import os\n",
    "import pyvista as pv\n",
    "pv.set_jupyter_backend('static')\n",
    "pv.start_xvfb()\n",
    "pv.set_plot_theme(\"document\")\n",
    "import numpy as np\n",
    "import matplotlib.pyplot as plt"
   ]
  },
  {
   "cell_type": "code",
   "execution_count": null,
   "metadata": {},
   "outputs": [],
   "source": [
    "file_path = \"Cruchaga3DData2/\"\n",
    "file_list = os.listdir(file_path)\n",
    "file_list.sort()"
   ]
  },
  {
   "cell_type": "code",
   "execution_count": null,
   "metadata": {},
   "outputs": [],
   "source": [
    "def readStep(step):\n",
    "    file_name = file_path + file_list[step]\n",
    "    mesh = pv.read(file_name)\n",
    "    return mesh\n",
    "    pass"
   ]
  },
  {
   "cell_type": "code",
   "execution_count": null,
   "metadata": {},
   "outputs": [],
   "source": [
    "water_width = 0.114\n",
    "water_height = 0.114\n",
    "water_depth = 0.228\n",
    "dr = 0.114/20\n",
    "water_particles_number = int((water_width/dr)*(water_height/dr)*(water_depth/dr))\n",
    "wall_particles_number = readStep(0).n_points - water_particles_number"
   ]
  },
  {
   "cell_type": "code",
   "execution_count": null,
   "metadata": {},
   "outputs": [],
   "source": [
    "def extractWaterHorizontalPosition(t_end):\n",
    "    t_s = []\n",
    "    horizontal_position = []\n",
    "    t = 0.0\n",
    "    step = 0\n",
    "    while t <= t_end:\n",
    "        mesh = readStep(step)\n",
    "        t = mesh.field_data[\"Time\"][0]\n",
    "        t_s.append(t)\n",
    "        water_particles = mesh.points[0: water_particles_number, 1] < 0.55*0.114/20\n",
    "        water_particles = np.where(water_particles == True)[0]\n",
    "        # find the max x of the filtered particles\n",
    "        horizontal_position.append(np.max(mesh.points[water_particles, 0]))\n",
    "        step += 1\n",
    "        pass\n",
    "    return np.array(t_s), np.array(horizontal_position)\n",
    "    pass"
   ]
  },
  {
   "cell_type": "code",
   "execution_count": null,
   "metadata": {},
   "outputs": [],
   "source": [
    "t_s, horizontal_position = extractWaterHorizontalPosition(0.3)"
   ]
  },
  {
   "cell_type": "code",
   "execution_count": null,
   "metadata": {},
   "outputs": [],
   "source": [
    "plt.figure(figsize=(8, 4))\n",
    "plt.plot(\n",
    "    t_s,\n",
    "    horizontal_position / 0.114,\n",
    "    color=\"k\",\n",
    "    label=\"SPH (This work)\"\n",
    ")\n",
    "plt.scatter(\n",
    "    np.array([0.0, 0.1, 0.2, 0.3]),\n",
    "    [1, 1.6, 3.1, 0.42/0.114],\n",
    "    color=\"r\",\n",
    "    zorder=10,\n",
    "    label=\"Cruchaga (2007), Experimental\"\n",
    ")\n",
    "plt.xlabel(\"Time [s]\")\n",
    "plt.ylabel(\"Horizontal position [m]\")\n",
    "plt.grid()\n",
    "plt.legend()\n",
    "plt.show()"
   ]
  }
 ],
 "metadata": {
  "language_info": {
   "name": "python"
  }
 },
 "nbformat": 4,
 "nbformat_minor": 2
}
