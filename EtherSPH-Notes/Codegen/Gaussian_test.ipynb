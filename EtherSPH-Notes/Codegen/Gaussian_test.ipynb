{
 "cells": [
  {
   "cell_type": "code",
   "execution_count": null,
   "metadata": {},
   "outputs": [],
   "source": [
    "import numpy as np\n",
    "import matplotlib.pyplot as plt\n",
    "import sympy as syp\n",
    "from sympy.utilities import codegen"
   ]
  },
  {
   "cell_type": "code",
   "execution_count": null,
   "metadata": {},
   "outputs": [],
   "source": [
    "q = syp.symbols(\"q\", positive=True)\n",
    "h = syp.symbols(\"h\", positive=True)\n",
    "sigma_g = syp.symbols(\"sigma_g\", positive=True)\n",
    "W = syp.Piecewise(\n",
    "    (0, q>3),\n",
    "    (sigma_g * syp.exp(-q*q), True)\n",
    ")\n",
    "W = W.simplify()\n",
    "W"
   ]
  },
  {
   "cell_type": "code",
   "execution_count": null,
   "metadata": {},
   "outputs": [],
   "source": [
    "[(c_name, c_code), (h_name, h_code)] = codegen.codegen((\"gaussian\", W), \"C99\", \"Gaussian\", header=False, empty=False, argument_sequence=(q, h, sigma_g))"
   ]
  },
  {
   "cell_type": "code",
   "execution_count": null,
   "metadata": {},
   "outputs": [],
   "source": [
    "print(\"//%s\\n\" % c_name, c_code)"
   ]
  },
  {
   "cell_type": "code",
   "execution_count": null,
   "metadata": {},
   "outputs": [],
   "source": [
    "print(\"//%s\\n\" % h_name, h_code)"
   ]
  },
  {
   "cell_type": "markdown",
   "metadata": {},
   "source": [
    "# 1d Gradient"
   ]
  },
  {
   "cell_type": "code",
   "execution_count": null,
   "metadata": {},
   "outputs": [],
   "source": [
    "W_gradient = W.diff(q).simplify()\n",
    "W_gradient"
   ]
  },
  {
   "cell_type": "code",
   "execution_count": null,
   "metadata": {},
   "outputs": [],
   "source": [
    "[(c_name, c_code), (h_name, h_code)] = codegen.codegen((\"gaussianDiff1D\", W_gradient), \"C99\", \"Gaussian\", header=False, empty=False, argument_sequence=(q, h, sigma_g))"
   ]
  },
  {
   "cell_type": "code",
   "execution_count": null,
   "metadata": {},
   "outputs": [],
   "source": [
    "print(\"//%s\\n\" % c_name, c_code)"
   ]
  },
  {
   "cell_type": "code",
   "execution_count": null,
   "metadata": {},
   "outputs": [],
   "source": [
    "print(\"//%s\\n\" % h_name, h_code)"
   ]
  },
  {
   "cell_type": "markdown",
   "metadata": {},
   "source": [
    "# 2d Gradient"
   ]
  },
  {
   "cell_type": "code",
   "execution_count": null,
   "metadata": {},
   "outputs": [],
   "source": [
    "W_laplacian = W.diff(q, 2)\n",
    "W_laplacian"
   ]
  },
  {
   "cell_type": "code",
   "execution_count": null,
   "metadata": {},
   "outputs": [],
   "source": [
    "[(c_name, c_code), (h_name, h_code)] = codegen.codegen((\"gaussianDiff2D\", W_laplacian), \"C99\", \"Gaussian\", header=False, empty=False, argument_sequence=(q, h, sigma_g))"
   ]
  },
  {
   "cell_type": "code",
   "execution_count": null,
   "metadata": {},
   "outputs": [],
   "source": [
    "print(\"//%s\\n\" % c_name, c_code)"
   ]
  },
  {
   "cell_type": "code",
   "execution_count": null,
   "metadata": {},
   "outputs": [],
   "source": [
    "print(\"//%s\\n\" % h_name, h_code)"
   ]
  },
  {
   "cell_type": "code",
   "execution_count": null,
   "metadata": {},
   "outputs": [],
   "source": []
  }
 ],
 "metadata": {
  "language_info": {
   "name": "python"
  }
 },
 "nbformat": 4,
 "nbformat_minor": 2
}
