{
 "cells": [
  {
   "cell_type": "code",
   "execution_count": null,
   "metadata": {},
   "outputs": [],
   "source": [
    "import numpy as np\n",
    "import matplotlib.pyplot as plt\n",
    "import sympy as syp\n",
    "from sympy.utilities import codegen"
   ]
  },
  {
   "cell_type": "code",
   "execution_count": null,
   "metadata": {},
   "outputs": [],
   "source": [
    "q = syp.symbols(\"q\", positive=True)\n",
    "h = syp.symbols(\"h\", positive=True)\n",
    "alpha_d = syp.symbols(\"alpha_d\", positive=True)\n",
    "W = syp.Piecewise(\n",
    "    (0, q>2),\n",
    "    (alpha_d * (1-q/2)**6 * (syp.Rational(35,12)*q**2 + 3*q + 1), True)\n",
    ")\n",
    "W = W.simplify()\n",
    "W"
   ]
  },
  {
   "cell_type": "code",
   "execution_count": null,
   "metadata": {},
   "outputs": [],
   "source": [
    "[(c_name, c_code), (h_name, h_code)] = codegen.codegen((\"wendlandC4\", W), \"C99\", \"WendlandC4\", header=False, empty=False, argument_sequence=(q, h, alpha_d))"
   ]
  },
  {
   "cell_type": "code",
   "execution_count": null,
   "metadata": {},
   "outputs": [],
   "source": [
    "print(\"//%s\\n\" % c_name, c_code)"
   ]
  },
  {
   "cell_type": "code",
   "execution_count": null,
   "metadata": {},
   "outputs": [],
   "source": [
    "print(\"//%s\\n\" % h_name, h_code)"
   ]
  },
  {
   "cell_type": "markdown",
   "metadata": {},
   "source": [
    "# 1d Gradient"
   ]
  },
  {
   "cell_type": "code",
   "execution_count": null,
   "metadata": {},
   "outputs": [],
   "source": [
    "W_gradient = W.diff(q).simplify()\n",
    "W_gradient"
   ]
  },
  {
   "cell_type": "code",
   "execution_count": null,
   "metadata": {},
   "outputs": [],
   "source": [
    "[(c_name, c_code), (h_name, h_code)] = codegen.codegen((\"wendlandC4Diff1D\", W_gradient), \"C99\", \"WendlandC4\", header=False, empty=False, argument_sequence=(q, h, alpha_d))"
   ]
  },
  {
   "cell_type": "code",
   "execution_count": null,
   "metadata": {},
   "outputs": [],
   "source": [
    "print(\"//%s\\n\" % c_name, c_code)"
   ]
  },
  {
   "cell_type": "code",
   "execution_count": null,
   "metadata": {},
   "outputs": [],
   "source": [
    "print(\"//%s\\n\" % h_name, h_code)"
   ]
  },
  {
   "cell_type": "markdown",
   "metadata": {},
   "source": [
    "# 2d Gradient"
   ]
  },
  {
   "cell_type": "code",
   "execution_count": null,
   "metadata": {},
   "outputs": [],
   "source": [
    "W_laplacian = W.diff(q, 2)\n",
    "W_laplacian"
   ]
  },
  {
   "cell_type": "code",
   "execution_count": null,
   "metadata": {},
   "outputs": [],
   "source": [
    "[(c_name, c_code), (h_name, h_code)] = codegen.codegen((\"wendlandC4Diff2D\", W_laplacian), \"C99\", \"WendlandC4\", header=False, empty=False, argument_sequence=(q, h, alpha_d))"
   ]
  },
  {
   "cell_type": "code",
   "execution_count": null,
   "metadata": {},
   "outputs": [],
   "source": [
    "print(\"//%s\\n\" % c_name, c_code)"
   ]
  },
  {
   "cell_type": "code",
   "execution_count": null,
   "metadata": {},
   "outputs": [],
   "source": [
    "print(\"//%s\\n\" % h_name, h_code)"
   ]
  },
  {
   "cell_type": "code",
   "execution_count": null,
   "metadata": {},
   "outputs": [],
   "source": []
  }
 ],
 "metadata": {
  "language_info": {
   "name": "python"
  }
 },
 "nbformat": 4,
 "nbformat_minor": 2
}
