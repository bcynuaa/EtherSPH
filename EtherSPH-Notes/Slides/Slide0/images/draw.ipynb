{
 "cells": [
  {
   "cell_type": "code",
   "execution_count": null,
   "metadata": {},
   "outputs": [],
   "source": [
    "import numpy as np\n",
    "import matplotlib.pyplot as plt\n",
    "import matplotlib as mpl\n",
    "mpl.rcParams[\"text.usetex\"] = True"
   ]
  },
  {
   "cell_type": "code",
   "execution_count": null,
   "metadata": {},
   "outputs": [],
   "source": [
    "image_path: str = \"./\""
   ]
  },
  {
   "cell_type": "code",
   "execution_count": null,
   "metadata": {},
   "outputs": [],
   "source": [
    "# draw a $\\delta(x)$ function\n",
    "\n",
    "plt.figure(figsize=(8, 4), facecolor=\"white\")\n",
    "plt.gca().set_aspect(\"equal\")\n",
    "x = np.linspace(-1, 1, 1000)\n",
    "y = np.zeros_like(x)\n",
    "y[500] = 500\n",
    "plt.plot(x, y, linewidth=2)\n",
    "plt.ylim(-0.1, 2)\n",
    "plt.xlabel(\"$x$\", fontsize=16)\n",
    "plt.ylabel(\"$\\delta(x)$\", fontsize=16)\n",
    "plt.title(\"$x-\\delta(x)$\", fontsize=20)\n",
    "plt.grid(True)\n",
    "plt.savefig(image_path + \"delta.png\", dpi=300, bbox_inches=\"tight\")\n",
    "plt.show()"
   ]
  },
  {
   "cell_type": "code",
   "execution_count": null,
   "metadata": {},
   "outputs": [],
   "source": [
    "# draw a SPH kernel W(x, h)\n",
    "\n",
    "def W(x):\n",
    "    h = 1\n",
    "    if x > -h or x < h:\n",
    "        return 315 / (64 * np.pi * h**9) * (h**2 - x**2)**3\n",
    "    else:\n",
    "        return 0\n",
    "    pass\n",
    "\n",
    "plt.figure(figsize=(8, 4), facecolor=\"white\")\n",
    "plt.gca().set_aspect(\"equal\")\n",
    "x = np.linspace(-1, 1, 1000)\n",
    "y = np.zeros_like(x)\n",
    "for i in range(1000):\n",
    "    y[i] = W(x[i])\n",
    "    pass\n",
    "plt.plot(x, y, linewidth=2)\n",
    "plt.ylim(-0.1, 2)\n",
    "plt.xlabel(\"$x$\", fontsize=16)\n",
    "plt.ylabel(\"$W(x)$\", fontsize=16)\n",
    "plt.title(\"$x-W(x)$\", fontsize=20)\n",
    "plt.grid(True)\n",
    "plt.savefig(image_path + \"W.png\", dpi=300, bbox_inches=\"tight\")\n",
    "plt.show()"
   ]
  },
  {
   "cell_type": "code",
   "execution_count": null,
   "metadata": {},
   "outputs": [],
   "source": [
    "# draw sph particles distribution\n",
    "\n",
    "plt.figure(figsize=(12, 8), facecolor=\"white\")\n",
    "plt.gca().set_aspect(\"equal\")\n",
    "\n",
    "n_particles = 500\n",
    "\n",
    "pos_x = np.random.uniform(-15, 15, n_particles)\n",
    "pos_y = np.random.uniform(-8, 8, n_particles)\n",
    "\n",
    "k = 20\n",
    "\n",
    "x_k = pos_x[k]\n",
    "y_k = pos_y[k]\n",
    "\n",
    "plt.scatter(pos_x, pos_y, s=50, c=\"black\")\n",
    "\n",
    "plt.scatter(x_k, y_k, s=100, c=\"red\")\n",
    "\n",
    "# draw a circle of radius h=0.5\n",
    "h = 2\n",
    "theta = np.linspace(0, 2 * np.pi, 1000)\n",
    "x = h * np.cos(theta) + x_k\n",
    "y = h * np.sin(theta) + y_k\n",
    "plt.plot(x, y, linewidth=2, c=\"red\")\n",
    "\n",
    "in_circle_list = []\n",
    "for i in range(n_particles):\n",
    "    if (pos_x[i] - x_k)**2 + (pos_y[i] - y_k)**2 < h**2 and i != k:\n",
    "        in_circle_list.append(i)\n",
    "        pass\n",
    "    pass\n",
    "\n",
    "for i in in_circle_list:\n",
    "    plt.scatter(pos_x[i], pos_y[i], s=50, c=\"blue\")\n",
    "    pass\n",
    "plt.text(x_k + 0.2, y_k + 0.2, \"$k$\", fontsize=30, color=\"red\")\n",
    "\n",
    "plt.xlabel(\"$x$\", fontsize=20)\n",
    "plt.ylabel(\"$y$\", fontsize=20)\n",
    "plt.title(\"SPH Particles Distribution\", fontsize=25)\n",
    "\n",
    "plt.grid(False)\n",
    "\n",
    "plt.savefig(image_path + \"sph_particles_distribution.png\", dpi=300, bbox_inches=\"tight\")\n",
    "plt.show()"
   ]
  },
  {
   "cell_type": "code",
   "execution_count": null,
   "metadata": {},
   "outputs": [],
   "source": []
  },
  {
   "cell_type": "code",
   "execution_count": null,
   "metadata": {},
   "outputs": [],
   "source": []
  }
 ],
 "metadata": {
  "language_info": {
   "name": "python"
  }
 },
 "nbformat": 4,
 "nbformat_minor": 2
}
