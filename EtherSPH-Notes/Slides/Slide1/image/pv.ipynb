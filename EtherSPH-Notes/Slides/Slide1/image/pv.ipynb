{
 "cells": [
  {
   "cell_type": "code",
   "execution_count": null,
   "metadata": {},
   "outputs": [],
   "source": [
    "import pyvista as pv\n",
    "pv.set_plot_theme(\"document\")\n",
    "pv.start_xvfb()"
   ]
  },
  {
   "cell_type": "code",
   "execution_count": null,
   "metadata": {},
   "outputs": [],
   "source": [
    "folder = \"..//..//..//../bin/test/Solver/water_wall_test/\""
   ]
  },
  {
   "cell_type": "code",
   "execution_count": null,
   "metadata": {},
   "outputs": [],
   "source": [
    "def vtpFilename(i):\n",
    "    return folder + \"test\" + str(i) + \".vtp\"\n",
    "    pass"
   ]
  },
  {
   "cell_type": "code",
   "execution_count": null,
   "metadata": {},
   "outputs": [],
   "source": [
    "def plotStep(i):\n",
    "    filename = vtpFilename(i)\n",
    "    par = pv.read(filename)\n",
    "    plotter = pv.Plotter(window_size=[800, 600])\n",
    "    plotter.add_mesh(par, scalars=\"Velocity\", cmap=\"jet\")\n",
    "    plotter.camera_position = \"XY\"\n",
    "    plotter.camera.zoom(1)\n",
    "    plotter.add_text(\"Step \" + str(i+1), font_size=18)\n",
    "    # plotter.screenshot(\"step\" + str(i+1) + \".png\")\n",
    "    plotter.show()\n",
    "    pass"
   ]
  },
  {
   "cell_type": "code",
   "execution_count": null,
   "metadata": {},
   "outputs": [],
   "source": [
    "n = 50\n",
    "par = pv.read(vtpFilename(n))\n",
    "plotStep(n)\n",
    "par"
   ]
  },
  {
   "cell_type": "code",
   "execution_count": null,
   "metadata": {},
   "outputs": [],
   "source": []
  },
  {
   "cell_type": "code",
   "execution_count": null,
   "metadata": {},
   "outputs": [],
   "source": []
  }
 ],
 "metadata": {
  "language_info": {
   "name": "python"
  }
 },
 "nbformat": 4,
 "nbformat_minor": 2
}
