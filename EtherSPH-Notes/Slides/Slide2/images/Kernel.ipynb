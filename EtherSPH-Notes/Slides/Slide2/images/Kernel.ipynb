{
 "cells": [
  {
   "cell_type": "code",
   "execution_count": null,
   "metadata": {},
   "outputs": [],
   "source": [
    "include(\"../../../../EtherSPH-JL/src/EtherSPH.jl\");\n",
    "using Plots;\n",
    "using BenchmarkTools;"
   ]
  },
  {
   "cell_type": "code",
   "execution_count": null,
   "metadata": {},
   "outputs": [],
   "source": [
    "const dim = 2;\n",
    "const influence_radius = 0.1;\n",
    "const n = 1000;\n",
    "const x = LinRange(0, influence_radius, n) |> Vector;"
   ]
  },
  {
   "cell_type": "markdown",
   "metadata": {},
   "source": [
    "# Kernel and Kernel Gradient"
   ]
  },
  {
   "cell_type": "code",
   "execution_count": null,
   "metadata": {},
   "outputs": [],
   "source": [
    "smooth_kernels = SmoothKernel.(influence_radius, dim, [CubicSplineKernel, GaussianKernel, WendlandC2Kernel, WendlandC4Kernel]);\n",
    "smooth_kernel_names = [\"CubicSpline\", \"Gaussian\", \"WendlandC2\", \"WendlandC4\"];\n",
    "@btime SmoothKernel(influence_radius, dim, CubicSplineKernel);"
   ]
  },
  {
   "cell_type": "code",
   "execution_count": null,
   "metadata": {},
   "outputs": [],
   "source": [
    "kernel_value_figure = plot(title=raw\"Kernel Function $\\frac{r}{h}-W\\left(\\frac{r}{h}\\right)$\", xlabel=raw\"$r/h$\", ylabel=raw\"$W(r/h)$\", legend=:topright);\n",
    "for i in 1: length(smooth_kernels)\n",
    "    plot!(kernel_value_figure, x, [kernelValue(x_i, smooth_kernels[i]) for x_i in x], label=smooth_kernel_names[i]);\n",
    "end\n",
    "plot(kernel_value_figure)\n",
    "savefig(kernel_value_figure, \"kernel_value.png\");"
   ]
  },
  {
   "cell_type": "code",
   "execution_count": null,
   "metadata": {},
   "outputs": [],
   "source": [
    "kernel_gradient_figure = plot(title=raw\"Kernel Gradient $\\frac{r}{h}-\\frac{1}{h}W^\\prime\\left(\\frac{r}{h}\\right)$\", xlabel=raw\"$r/h$\", ylabel=raw\"$\\frac{1}{h}W^\\prime\\left(\\frac{r}{h}\\right)$\", legend=:bottomright);\n",
    "for i in 1: length(smooth_kernels)\n",
    "    plot!(kernel_gradient_figure, x, [kernelGradient(x_i, smooth_kernels[i]) for x_i in x], label=smooth_kernel_names[i]);\n",
    "end\n",
    "plot(kernel_gradient_figure)\n",
    "savefig(kernel_gradient_figure, \"kernel_gradient.png\");"
   ]
  },
  {
   "cell_type": "markdown",
   "metadata": {},
   "source": [
    "# Benchmark"
   ]
  },
  {
   "cell_type": "code",
   "execution_count": null,
   "metadata": {},
   "outputs": [],
   "source": [
    "@btime begin\n",
    "    for xi in x\n",
    "        kernelValue(xi, smooth_kernels[1]);\n",
    "    end\n",
    "end"
   ]
  },
  {
   "cell_type": "code",
   "execution_count": null,
   "metadata": {},
   "outputs": [],
   "source": [
    "@btime begin\n",
    "    for xi in x\n",
    "        kernelValue(xi, smooth_kernels[2]);\n",
    "    end\n",
    "end"
   ]
  },
  {
   "cell_type": "code",
   "execution_count": null,
   "metadata": {},
   "outputs": [],
   "source": [
    "@btime begin\n",
    "    for xi in x\n",
    "        kernelValue(xi, smooth_kernels[3]);\n",
    "    end\n",
    "end"
   ]
  },
  {
   "cell_type": "code",
   "execution_count": null,
   "metadata": {},
   "outputs": [],
   "source": [
    "@btime begin\n",
    "    for xi in x\n",
    "        kernelValue(xi, smooth_kernels[4]);\n",
    "    end\n",
    "end"
   ]
  },
  {
   "cell_type": "markdown",
   "metadata": {},
   "source": [
    "# @code_warntype"
   ]
  },
  {
   "cell_type": "code",
   "execution_count": null,
   "metadata": {},
   "outputs": [],
   "source": [
    "@code_warntype kernelValue(0.05, smooth_kernels[1]);"
   ]
  },
  {
   "cell_type": "code",
   "execution_count": null,
   "metadata": {},
   "outputs": [],
   "source": [
    "@code_warntype kernelGradient(0.05, smooth_kernels[1]);"
   ]
  },
  {
   "cell_type": "code",
   "execution_count": null,
   "metadata": {},
   "outputs": [],
   "source": []
  }
 ],
 "metadata": {
  "language_info": {
   "name": "julia"
  }
 },
 "nbformat": 4,
 "nbformat_minor": 2
}
