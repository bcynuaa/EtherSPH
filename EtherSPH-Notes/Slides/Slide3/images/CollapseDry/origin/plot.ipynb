{
 "cells": [
  {
   "cell_type": "code",
   "execution_count": null,
   "metadata": {},
   "outputs": [],
   "source": [
    "import pyvista as pv\n",
    "pv.start_xvfb()\n",
    "pv.set_plot_theme(\"document\")\n",
    "pv.set_jupyter_backend(\"static\")"
   ]
  },
  {
   "cell_type": "code",
   "execution_count": null,
   "metadata": {},
   "outputs": [],
   "source": [
    "import matplotlib.pyplot as plt"
   ]
  },
  {
   "cell_type": "code",
   "execution_count": null,
   "metadata": {},
   "outputs": [],
   "source": [
    "mesh05s = pv.read(\"collapse_dry05.vtp\")\n",
    "mesh05s"
   ]
  },
  {
   "cell_type": "code",
   "execution_count": null,
   "metadata": {},
   "outputs": [],
   "source": [
    "plotter = pv.Plotter()\n",
    "plotter.add_mesh(mesh05s, cmap=\"jet\", scalars=\"Velocity\")\n",
    "plotter.add_title(str(mesh05s[\"Time\"][0])+\"s\")\n",
    "plotter.camera_position = \"XY\"\n",
    "plotter.camera.zoom(1.3)\n",
    "plotter.screenshot(\"collapse_dry05.png\")\n",
    "plotter.show(\"static\")"
   ]
  },
  {
   "cell_type": "code",
   "execution_count": null,
   "metadata": {},
   "outputs": [],
   "source": [
    "# combine reference and simulation data into a same axis\n",
    "plt.figure(figsize=(20, 10))\n",
    "simulation_png = \"collapse_dry05.png\"\n",
    "reference_png = \"../collapse_dry_Violeau05.png\"\n",
    "simulation = plt.imread(simulation_png)\n",
    "reference = plt.imread(reference_png)\n",
    "simulation_axes = plt.subplot(111)\n",
    "simulation_axes.imshow(simulation)\n",
    "simulation_axes.axis(\"off\")\n",
    "# reference shrink 20% to fit the simulation\n",
    "reference_axes = simulation_axes.inset_axes([0.15, 0.45, 0.4, 0.4])\n",
    "reference_axes.imshow(reference)\n",
    "reference_axes.axis(\"off\")\n",
    "plt.tight_layout()\n",
    "plt.savefig(\"collapse_dry05_combined.png\", dpi=300, bbox_inches=\"tight\")\n",
    "plt.show()"
   ]
  },
  {
   "cell_type": "code",
   "execution_count": null,
   "metadata": {},
   "outputs": [],
   "source": [
    "mesh11s = pv.read(\"collapse_dry11.vtp\")\n",
    "mesh11s"
   ]
  },
  {
   "cell_type": "code",
   "execution_count": null,
   "metadata": {},
   "outputs": [],
   "source": [
    "plotter = pv.Plotter()\n",
    "plotter.add_mesh(mesh11s, cmap=\"jet\", scalars=\"Velocity\")\n",
    "plotter.add_title(str(mesh11s[\"Time\"][0])+\"s\")\n",
    "plotter.camera_position = \"XY\"\n",
    "plotter.camera.zoom(1.3)\n",
    "plotter.screenshot(\"collapse_dry11.png\")\n",
    "plotter.show(\"static\")"
   ]
  },
  {
   "cell_type": "code",
   "execution_count": null,
   "metadata": {},
   "outputs": [],
   "source": [
    "plt.figure(figsize=(20, 10))\n",
    "simulation_png = \"collapse_dry11.png\"\n",
    "reference_png = \"../collapse_dry_Violeau11.png\"\n",
    "simulation = plt.imread(simulation_png)\n",
    "reference = plt.imread(reference_png)\n",
    "simulation_axes = plt.subplot(111)\n",
    "simulation_axes.imshow(simulation)\n",
    "simulation_axes.axis(\"off\")\n",
    "# reference shrink 20% to fit the simulation\n",
    "reference_axes = simulation_axes.inset_axes([0.15, 0.45, 0.4, 0.4])\n",
    "reference_axes.imshow(reference)\n",
    "reference_axes.axis(\"off\")\n",
    "plt.tight_layout()\n",
    "plt.savefig(\"collapse_dry11_combined.png\", dpi=300, bbox_inches=\"tight\")\n",
    "plt.show()"
   ]
  },
  {
   "cell_type": "code",
   "execution_count": null,
   "metadata": {},
   "outputs": [],
   "source": [
    "mesh18s = pv.read(\"collapse_dry18.vtp\")\n",
    "mesh18s"
   ]
  },
  {
   "cell_type": "code",
   "execution_count": null,
   "metadata": {},
   "outputs": [],
   "source": [
    "mesh18s.cast_to_poly_points()"
   ]
  },
  {
   "cell_type": "code",
   "execution_count": null,
   "metadata": {},
   "outputs": [],
   "source": [
    "# filter y position below 3.0\n",
    "mask = mesh18s.points[:, 1] < 3.0\n",
    "poly = mesh18s.extract_points(mask)"
   ]
  },
  {
   "cell_type": "code",
   "execution_count": null,
   "metadata": {},
   "outputs": [],
   "source": [
    "plotter = pv.Plotter()\n",
    "plotter.add_mesh(poly, cmap=\"jet\", scalars=\"Velocity\")\n",
    "plotter.add_title(str(mesh18s[\"Time\"][0])+\"s\")\n",
    "plotter.camera_position = \"XY\"\n",
    "plotter.camera.zoom(1.3)\n",
    "plotter.screenshot(\"collapse_dry18.png\")\n",
    "plotter.show(\"static\")"
   ]
  },
  {
   "cell_type": "code",
   "execution_count": null,
   "metadata": {},
   "outputs": [],
   "source": [
    "plt.figure(figsize=(20, 10))\n",
    "simulation_png = \"collapse_dry18.png\"\n",
    "reference_png = \"../collapse_dry_Violeau18.png\"\n",
    "simulation = plt.imread(simulation_png)\n",
    "reference = plt.imread(reference_png)\n",
    "simulation_axes = plt.subplot(111)\n",
    "simulation_axes.imshow(simulation)\n",
    "simulation_axes.axis(\"off\")\n",
    "# reference shrink 20% to fit the simulation\n",
    "reference_axes = simulation_axes.inset_axes([0.15, 0.45, 0.4, 0.4])\n",
    "reference_axes.imshow(reference)\n",
    "reference_axes.axis(\"off\")\n",
    "plt.tight_layout()\n",
    "plt.savefig(\"collapse_dry18_combined.png\", dpi=300, bbox_inches=\"tight\")\n",
    "plt.show()"
   ]
  },
  {
   "cell_type": "code",
   "execution_count": null,
   "metadata": {},
   "outputs": [],
   "source": [
    "mesh21s = pv.read(\"collapse_dry21.vtp\")\n",
    "mesh21s"
   ]
  },
  {
   "cell_type": "code",
   "execution_count": null,
   "metadata": {},
   "outputs": [],
   "source": [
    "mask = mesh21s.points[:, 1] < 3.0\n",
    "poly = mesh21s.extract_points(mask)"
   ]
  },
  {
   "cell_type": "code",
   "execution_count": null,
   "metadata": {},
   "outputs": [],
   "source": [
    "plotter = pv.Plotter()\n",
    "plotter.add_mesh(poly, cmap=\"jet\", scalars=\"Velocity\")\n",
    "plotter.add_title(str(mesh21s[\"Time\"][0])+\"s\")\n",
    "plotter.camera_position = \"XY\"\n",
    "plotter.camera.zoom(1.3)\n",
    "plotter.screenshot(\"collapse_dry21.png\")\n",
    "plotter.show(\"static\")"
   ]
  },
  {
   "cell_type": "code",
   "execution_count": null,
   "metadata": {},
   "outputs": [],
   "source": [
    "plt.figure(figsize=(20, 10))\n",
    "simulation_png = \"collapse_dry21.png\"\n",
    "reference_png = \"../collapse_dry_Violeau21.png\"\n",
    "simulation = plt.imread(simulation_png)\n",
    "reference = plt.imread(reference_png)\n",
    "simulation_axes = plt.subplot(111)\n",
    "simulation_axes.imshow(simulation)\n",
    "simulation_axes.axis(\"off\")\n",
    "# reference shrink 20% to fit the simulation\n",
    "reference_axes = simulation_axes.inset_axes([0.15, 0.45, 0.4, 0.4])\n",
    "reference_axes.imshow(reference)\n",
    "reference_axes.axis(\"off\")\n",
    "plt.tight_layout()\n",
    "plt.savefig(\"collapse_dry21_combined.png\", dpi=300, bbox_inches=\"tight\")\n",
    "plt.show()"
   ]
  },
  {
   "cell_type": "code",
   "execution_count": null,
   "metadata": {},
   "outputs": [],
   "source": [
    "mesh27s = pv.read(\"collapse_dry27.vtp\")\n",
    "mesh27s"
   ]
  },
  {
   "cell_type": "code",
   "execution_count": null,
   "metadata": {},
   "outputs": [],
   "source": [
    "mask = (mesh27s.points[:, 0] < 4.05) & (mesh27s.points[:, 1] < 3.0)\n",
    "poly = mesh27s.extract_points(mask)"
   ]
  },
  {
   "cell_type": "code",
   "execution_count": null,
   "metadata": {},
   "outputs": [],
   "source": [
    "plotter = pv.Plotter()\n",
    "plotter.add_mesh(poly, cmap=\"jet\", scalars=\"Velocity\")\n",
    "plotter.add_title(str(mesh27s[\"Time\"][0])+\"s\")\n",
    "plotter.camera_position = \"XY\"\n",
    "plotter.camera.zoom(1.3)\n",
    "plotter.screenshot(\"collapse_dry27.png\")\n",
    "plotter.show(\"static\")"
   ]
  },
  {
   "cell_type": "code",
   "execution_count": null,
   "metadata": {},
   "outputs": [],
   "source": [
    "plt.figure(figsize=(20, 10))\n",
    "simulation_png = \"collapse_dry27.png\"\n",
    "reference_png = \"../collapse_dry_Violeau27.png\"\n",
    "simulation = plt.imread(simulation_png)\n",
    "reference = plt.imread(reference_png)\n",
    "simulation_axes = plt.subplot(111)\n",
    "simulation_axes.imshow(simulation)\n",
    "simulation_axes.axis(\"off\")\n",
    "# reference shrink 20% to fit the simulation\n",
    "reference_axes = simulation_axes.inset_axes([0.15, 0.45, 0.4, 0.4])\n",
    "reference_axes.imshow(reference)\n",
    "reference_axes.axis(\"off\")\n",
    "plt.tight_layout()\n",
    "plt.savefig(\"collapse_dry27_combined.png\", dpi=300, bbox_inches=\"tight\")\n",
    "plt.show()"
   ]
  },
  {
   "cell_type": "code",
   "execution_count": null,
   "metadata": {},
   "outputs": [],
   "source": [
    "mesh29s = pv.read(\"collapse_dry29.vtp\")\n",
    "mesh29s"
   ]
  },
  {
   "cell_type": "code",
   "execution_count": null,
   "metadata": {},
   "outputs": [],
   "source": [
    "mask = (mesh29s.points[:, 0] < 4.05) & (mesh29s.points[:, 1] < 3.0)\n",
    "poly = mesh29s.extract_points(mask)"
   ]
  },
  {
   "cell_type": "code",
   "execution_count": null,
   "metadata": {},
   "outputs": [],
   "source": [
    "plotter = pv.Plotter()\n",
    "plotter.add_mesh(poly, cmap=\"jet\", scalars=\"Velocity\")\n",
    "plotter.add_title(str(mesh29s[\"Time\"][0])+\"s\")\n",
    "plotter.camera_position = \"XY\"\n",
    "plotter.camera.zoom(1.3)\n",
    "plotter.screenshot(\"collapse_dry29.png\")\n",
    "plotter.show(\"static\")"
   ]
  },
  {
   "cell_type": "code",
   "execution_count": null,
   "metadata": {},
   "outputs": [],
   "source": [
    "plt.figure(figsize=(20, 10))\n",
    "simulation_png = \"collapse_dry29.png\"\n",
    "reference_png = \"../collapse_dry_Violeau29.png\"\n",
    "simulation = plt.imread(simulation_png)\n",
    "reference = plt.imread(reference_png)\n",
    "simulation_axes = plt.subplot(111)\n",
    "simulation_axes.imshow(simulation)\n",
    "simulation_axes.axis(\"off\")\n",
    "# reference shrink 20% to fit the simulation\n",
    "reference_axes = simulation_axes.inset_axes([0.15, 0.45, 0.4, 0.4])\n",
    "reference_axes.imshow(reference)\n",
    "reference_axes.axis(\"off\")\n",
    "plt.tight_layout()\n",
    "plt.savefig(\"collapse_dry29_combined.png\", dpi=300, bbox_inches=\"tight\")\n",
    "plt.show()"
   ]
  },
  {
   "cell_type": "code",
   "execution_count": null,
   "metadata": {},
   "outputs": [],
   "source": []
  }
 ],
 "metadata": {
  "language_info": {
   "name": "python"
  }
 },
 "nbformat": 4,
 "nbformat_minor": 2
}
