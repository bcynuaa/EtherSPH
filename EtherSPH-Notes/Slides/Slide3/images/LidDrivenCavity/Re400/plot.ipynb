{
 "cells": [
  {
   "cell_type": "code",
   "execution_count": null,
   "metadata": {},
   "outputs": [],
   "source": [
    "import pyvista as pv\n",
    "pv.set_jupyter_backend('static')\n",
    "pv.start_xvfb()\n",
    "pv.set_plot_theme(\"document\")"
   ]
  },
  {
   "cell_type": "code",
   "execution_count": null,
   "metadata": {},
   "outputs": [],
   "source": [
    "file_name = \"lid_driven_cavityN100.vtp\"\n",
    "mesh = pv.read(file_name)\n",
    "mesh"
   ]
  },
  {
   "cell_type": "code",
   "execution_count": null,
   "metadata": {},
   "outputs": [],
   "source": [
    "plotter = pv.Plotter(notebook=True)\n",
    "plotter.add_mesh(mesh, scalars=\"Velocity\", cmap=\"jet\", point_size=9)\n",
    "plotter.render_points_as_spheres = True\n",
    "plotter.add_title(str(mesh.field_data[\"Time\"][0]) + \"s\", font_size=15)\n",
    "plotter.camera_position = \"XY\"\n",
    "plotter.screenshot(\"lid_driven_cavity_re400.png\")\n",
    "plotter.show(jupyter_backend=\"static\")"
   ]
  },
  {
   "cell_type": "code",
   "execution_count": null,
   "metadata": {},
   "outputs": [],
   "source": [
    "import numpy as np\n",
    "import pandas as pd\n",
    "import matplotlib.pyplot as plt"
   ]
  },
  {
   "cell_type": "code",
   "execution_count": null,
   "metadata": {},
   "outputs": [],
   "source": [
    "n50 = pv.read(\"lid_driven_cavityN50.vtp\")\n",
    "n50half = pv.read(\"lid_driven_cavityN50half.vtp\")\n",
    "n100 = pv.read(\"lid_driven_cavityN100.vtp\")\n",
    "n100half = pv.read(\"lid_driven_cavityN100half.vtp\")\n",
    "def getUV(mesh):\n",
    "    mesh.point_data[\"U\"] = mesh.point_data[\"Velocity\"][:, 0]\n",
    "    mesh.point_data[\"V\"] = mesh.point_data[\"Velocity\"][:, 1]\n",
    "    pass\n",
    "for mesh in [n50, n50half, n100, n100half]:\n",
    "    getUV(mesh)\n",
    "    pass"
   ]
  },
  {
   "cell_type": "code",
   "execution_count": null,
   "metadata": {},
   "outputs": [],
   "source": [
    "def getMiddleU(mesh, n, radius=0.03):\n",
    "    x_middle = np.ones(n) * 0.5\n",
    "    y_middle = np.linspace(0.0, 1.0, n)\n",
    "    z_middle = np.zeros(n)\n",
    "    grid = pv.StructuredGrid(np.column_stack((x_middle, y_middle, z_middle)))\n",
    "    grid = grid.interpolate(mesh, radius=radius, sharpness=0.01)\n",
    "    return y_middle, grid.point_data[\"U\"]\n",
    "    pass\n",
    "\n",
    "def getMiddleV(mesh, n, radius=0.03):\n",
    "    x_middle = np.linspace(0.0, 1.0, n)\n",
    "    y_middle = np.ones(n) * 0.5\n",
    "    z_middle = np.zeros(n)\n",
    "    grid = pv.StructuredGrid(np.column_stack((x_middle, y_middle, z_middle)))\n",
    "    grid = grid.interpolate(mesh, radius=radius, sharpness=0.01)\n",
    "    return x_middle, grid.point_data[\"V\"]\n",
    "    pass"
   ]
  },
  {
   "cell_type": "code",
   "execution_count": null,
   "metadata": {},
   "outputs": [],
   "source": [
    "ref_u = pd.read_csv(\"../u_middle_ref.dat\", delim_whitespace=True)\n",
    "ref_u.T"
   ]
  },
  {
   "cell_type": "code",
   "execution_count": null,
   "metadata": {},
   "outputs": [],
   "source": [
    "ref_v = pd.read_csv(\"../v_middle_ref.dat\", delim_whitespace=True)\n",
    "ref_v.T"
   ]
  },
  {
   "cell_type": "code",
   "execution_count": null,
   "metadata": {},
   "outputs": [],
   "source": [
    "n50_y, n50_u = getMiddleU(n50, 51, 1/50*3)\n",
    "n50half_y, n50half_u = getMiddleU(n50half, 51, 1/50*3)\n",
    "n100_y, n100_u = getMiddleU(n100, 101, 1/100*3)\n",
    "n100half_y, n100half_u = getMiddleU(n100half, 101, 1/100*3)"
   ]
  },
  {
   "cell_type": "code",
   "execution_count": null,
   "metadata": {},
   "outputs": [],
   "source": [
    "plt.figure(figsize=(8, 6), facecolor=\"white\")\n",
    "plt.plot(n50_y, n50_u, label=\"N=50\", color=\"blue\")\n",
    "plt.plot(n50half_y, n50half_u, label=\"N=50-half\", color=\"green\", linestyle=\"--\")\n",
    "plt.scatter(ref_u[\"y\"], ref_u[\"Re400\"], label=\"Reference: Ghia. 1980\", color=\"red\", zorder=10)\n",
    "plt.grid()\n",
    "plt.legend(fontsize=12)\n",
    "plt.xlabel(\"y\", fontsize=15)\n",
    "plt.ylabel(\"u\", fontsize=15)\n",
    "plt.title(\"Re=100, N=50\", fontsize=15)\n",
    "plt.savefig(\"u_middle_re400_N50.png\", dpi=300, bbox_inches=\"tight\")\n",
    "plt.show()"
   ]
  },
  {
   "cell_type": "code",
   "execution_count": null,
   "metadata": {},
   "outputs": [],
   "source": [
    "plt.figure(figsize=(8, 6), facecolor=\"white\")\n",
    "plt.plot(n100_y, n100_u, label=\"N=100\", color=\"blue\")\n",
    "plt.plot(n100half_y, n100half_u, label=\"N=100-half\", color=\"green\", linestyle=\"--\")\n",
    "plt.scatter(ref_u[\"y\"], ref_u[\"Re400\"], label=\"Reference: Ghia. 1980\", color=\"red\", zorder=10)\n",
    "plt.grid()\n",
    "plt.legend(fontsize=12)\n",
    "plt.xlabel(\"y\", fontsize=15)\n",
    "plt.ylabel(\"u\", fontsize=15)\n",
    "plt.title(\"Re=100, N=100\", fontsize=15)\n",
    "plt.savefig(\"u_middle_re400_N100.png\", dpi=300, bbox_inches=\"tight\")\n",
    "plt.show()"
   ]
  },
  {
   "cell_type": "code",
   "execution_count": null,
   "metadata": {},
   "outputs": [],
   "source": [
    "n50_x, n50_v = getMiddleV(n50, 51, 1/50*3)\n",
    "n50half_x, n50half_v = getMiddleV(n50half, 51, 1/50*3)\n",
    "n100_x, n100_v = getMiddleV(n100, 101, 1/100*3)\n",
    "n100half_x, n100half_v = getMiddleV(n100half, 101, 1/100*3)"
   ]
  },
  {
   "cell_type": "code",
   "execution_count": null,
   "metadata": {},
   "outputs": [],
   "source": [
    "plt.figure(figsize=(8, 6), facecolor=\"white\")\n",
    "plt.plot(n50_x, n50_v, label=\"N=50\", color=\"blue\")\n",
    "plt.plot(n50half_x, n50half_v, label=\"N=50-half\", color=\"green\", linestyle=\"--\")\n",
    "plt.scatter(ref_v[\"x\"], ref_v[\"Re400\"], label=\"Reference: Ghia. 1980\", color=\"red\", zorder=10)\n",
    "plt.grid()\n",
    "plt.legend(fontsize=12)\n",
    "plt.xlabel(\"x\", fontsize=15)\n",
    "plt.ylabel(\"v\", fontsize=15)\n",
    "plt.title(\"Re=100, N=50\", fontsize=15)\n",
    "plt.savefig(\"v_middle_re400_N50.png\", dpi=300, bbox_inches=\"tight\")\n",
    "plt.show()"
   ]
  },
  {
   "cell_type": "code",
   "execution_count": null,
   "metadata": {},
   "outputs": [],
   "source": [
    "plt.figure(figsize=(8, 6), facecolor=\"white\")\n",
    "plt.plot(n100_x, n100_v, label=\"N=100\", color=\"blue\")\n",
    "plt.plot(n100half_x, n100half_v, label=\"N=100-half\", color=\"green\", linestyle=\"--\")\n",
    "plt.scatter(ref_v[\"x\"], ref_v[\"Re400\"], label=\"Reference: Ghia. 1980\", color=\"red\", zorder=10)\n",
    "plt.grid()\n",
    "plt.legend(fontsize=12)\n",
    "plt.xlabel(\"x\", fontsize=15)\n",
    "plt.ylabel(\"v\", fontsize=15)\n",
    "plt.title(\"Re=100, N=100\", fontsize=15)\n",
    "plt.savefig(\"v_middle_re400_N100.png\", dpi=300, bbox_inches=\"tight\")\n",
    "plt.show()"
   ]
  },
  {
   "cell_type": "code",
   "execution_count": null,
   "metadata": {},
   "outputs": [],
   "source": []
  }
 ],
 "metadata": {
  "language_info": {
   "name": "python"
  }
 },
 "nbformat": 4,
 "nbformat_minor": 2
}
