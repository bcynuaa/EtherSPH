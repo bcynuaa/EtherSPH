{
 "cells": [
  {
   "cell_type": "code",
   "execution_count": null,
   "metadata": {},
   "outputs": [],
   "source": [
    "import pyvista as pv\n",
    "pv.set_jupyter_backend('static')\n",
    "pv.start_xvfb()\n",
    "pv.set_plot_theme(\"document\")"
   ]
  },
  {
   "cell_type": "code",
   "execution_count": null,
   "metadata": {},
   "outputs": [],
   "source": [
    "file_name = \"poiseuille_2d.vtp\"\n",
    "mesh = pv.read(file_name)\n",
    "mesh"
   ]
  },
  {
   "cell_type": "code",
   "execution_count": null,
   "metadata": {},
   "outputs": [],
   "source": [
    "plotter = pv.Plotter(notebook=True, window_size=(500, 400))\n",
    "plotter.add_mesh(mesh, scalars=\"Velocity\", cmap=\"jet\", point_size=9)\n",
    "plotter.render_points_as_spheres = True\n",
    "plotter.add_title(str(mesh.field_data[\"Time\"][0]) + \"s\", font_size=15)\n",
    "plotter.camera_position = \"XY\"\n",
    "plotter.screenshot(\"poiseuille_2d.png\")\n",
    "plotter.show(jupyter_backend=\"static\")"
   ]
  },
  {
   "cell_type": "code",
   "execution_count": null,
   "metadata": {},
   "outputs": [],
   "source": [
    "import numpy as np\n",
    "import matplotlib.pyplot as plt"
   ]
  },
  {
   "cell_type": "code",
   "execution_count": null,
   "metadata": {},
   "outputs": [],
   "source": [
    "class Poiseuille2DAnalyticalSolution:\n",
    "    \n",
    "    def __init__(self, L, mu, rho, ax, order):\n",
    "        self.L = L\n",
    "        self.mu = mu\n",
    "        self.rho = rho\n",
    "        self.nu = mu/rho\n",
    "        self.ax = ax\n",
    "        self.order = order\n",
    "        pass\n",
    "    \n",
    "    def getU(self, t, n_nodes):\n",
    "        y = np.linspace(0, self.L, n_nodes)\n",
    "        u = np.zeros(n_nodes) + self.ax/2/self.nu * y * (self.L - y)\n",
    "        for n in range(self.order):\n",
    "            u -= 4*self.ax*self.L**2 / self.nu/np.pi**3/(2*n+1)**3 * np.sin((2*n+1)*np.pi/self.L*y) * np.exp(-(2*n+1)**2*np.pi**2/self.L**2*self.nu*t)\n",
    "            pass\n",
    "        return y, u\n",
    "        pass\n",
    "    \n",
    "    pass"
   ]
  },
  {
   "cell_type": "code",
   "execution_count": null,
   "metadata": {},
   "outputs": [],
   "source": [
    "L = 0.01\n",
    "mu = 1e-3\n",
    "rho = 1e3\n",
    "ax = 8e-5\n",
    "order = 100\n",
    "poiseuille_2d = Poiseuille2DAnalyticalSolution(L, mu, rho, ax, order)\n",
    "ts = np.array([2, 5.5, 9.5, 16])\n",
    "# ts = np.array([2, 5.5, 9.5])\n",
    "analytical_n_nodes = 21\n",
    "us_a = np.zeros((len(ts), analytical_n_nodes))\n",
    "ys_a = np.zeros((len(ts), analytical_n_nodes))\n",
    "for i, t in enumerate(ts):\n",
    "    ys_a[i], us_a[i] = poiseuille_2d.getU(t, analytical_n_nodes)\n",
    "    pass"
   ]
  },
  {
   "cell_type": "code",
   "execution_count": null,
   "metadata": {},
   "outputs": [],
   "source": [
    "us_sph = np.loadtxt(\"us_sph.csv\", delimiter=\",\")\n",
    "ys_sph = np.loadtxt(\"ys_sph.csv\", delimiter=\",\")"
   ]
  },
  {
   "cell_type": "code",
   "execution_count": null,
   "metadata": {},
   "outputs": [],
   "source": [
    "us_sph_half = np.loadtxt(\"us_sph.csv\", delimiter=\",\")\n",
    "ys_sph_half = np.loadtxt(\"ys_sph.csv\", delimiter=\",\")"
   ]
  },
  {
   "cell_type": "code",
   "execution_count": null,
   "metadata": {},
   "outputs": [],
   "source": [
    "plt.figure(figsize=(10, 5), facecolor='white')\n",
    "\n",
    "for i, t in enumerate(ts):\n",
    "    plt.plot(us_sph[i], ys_sph[i], label=f\"t={t}-SPH\")\n",
    "    plt.scatter(us_a[i], ys_a[i], label=f\"t={t}-Morris, Analytical\", zorder=10, s=20, alpha=0.7)\n",
    "    pass\n",
    "\n",
    "plt.title(\"Poiseuille Flow, Origin\", fontsize=15)\n",
    "\n",
    "# legend outside\n",
    "plt.legend(loc= 'upper center', bbox_to_anchor=(0.5, -0.05), fancybox=True, shadow=True, ncol=4)\n",
    "plt.grid()\n",
    "plt.savefig(\"poiseuille_2d_origin.png\", dpi=300, bbox_inches='tight')\n",
    "plt.show()"
   ]
  },
  {
   "cell_type": "code",
   "execution_count": null,
   "metadata": {},
   "outputs": [],
   "source": [
    "us_sph_half = np.loadtxt(\"us_sph_half.csv\", delimiter=\",\")\n",
    "ys_sph_half = np.loadtxt(\"ys_sph_half.csv\", delimiter=\",\")"
   ]
  },
  {
   "cell_type": "code",
   "execution_count": null,
   "metadata": {},
   "outputs": [],
   "source": [
    "plt.figure(figsize=(10, 5), facecolor='white')\n",
    "\n",
    "for i, t in enumerate(ts):\n",
    "    plt.plot(us_sph_half[i], ys_sph_half[i], label=f\"t={t}-SPH\")\n",
    "    plt.scatter(us_a[i], ys_a[i], label=f\"t={t}-Morris, Analytical\", zorder=10, s=20, alpha=0.7)\n",
    "    pass\n",
    "\n",
    "plt.title(\"Poiseuille Flow, Half\", fontsize=15)\n",
    "plt.legend(loc= 'upper center', bbox_to_anchor=(0.5, -0.05), fancybox=True, shadow=True, ncol=4)\n",
    "plt.grid()\n",
    "plt.savefig(\"poiseuille_2d_half.png\", dpi=300, bbox_inches='tight')\n",
    "plt.show()"
   ]
  },
  {
   "cell_type": "code",
   "execution_count": null,
   "metadata": {},
   "outputs": [],
   "source": []
  }
 ],
 "metadata": {
  "language_info": {
   "name": "python"
  }
 },
 "nbformat": 4,
 "nbformat_minor": 2
}
