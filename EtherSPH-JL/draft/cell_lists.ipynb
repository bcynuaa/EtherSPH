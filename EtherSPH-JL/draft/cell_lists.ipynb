{
 "cells": [
  {
   "cell_type": "code",
   "execution_count": null,
   "metadata": {},
   "outputs": [],
   "source": [
    "using CellLists;\n",
    "using CellListMap;\n",
    "using BenchmarkTools;"
   ]
  },
  {
   "cell_type": "code",
   "execution_count": null,
   "metadata": {},
   "outputs": [],
   "source": [
    "struct par\n",
    "    x::AbstractVector\n",
    "end"
   ]
  },
  {
   "cell_type": "code",
   "execution_count": null,
   "metadata": {},
   "outputs": [],
   "source": [
    "n_particles = 1500\n",
    "h = 0.015\n",
    "d = 2\n",
    "pos = rand(n_particles, d)\n",
    "pars = par[]\n",
    "for i in 1:n_particles\n",
    "    push!(pars, par(pos[i, :]))\n",
    "end"
   ]
  },
  {
   "cell_type": "code",
   "execution_count": null,
   "metadata": {},
   "outputs": [],
   "source": [
    "@btime begin\n",
    "    p = zeros(n_particles, d);\n",
    "    for i in 1:n_particles\n",
    "        p[i, :] = pars[i].x\n",
    "    end\n",
    "    c = CellLists.CellList(p, h);\n",
    "    indices = near_neighbors(c, p, h)\n",
    "end"
   ]
  },
  {
   "cell_type": "code",
   "execution_count": null,
   "metadata": {},
   "outputs": [],
   "source": [
    "@btime begin\n",
    "    nl = neighborlist([pars[i].x for i in 1:n_particles], h);\n",
    "end"
   ]
  },
  {
   "cell_type": "code",
   "execution_count": null,
   "metadata": {},
   "outputs": [],
   "source": [
    "neighborlist([1 2; 3 4], 5.)"
   ]
  },
  {
   "cell_type": "code",
   "execution_count": null,
   "metadata": {},
   "outputs": [],
   "source": []
  }
 ],
 "metadata": {
  "language_info": {
   "name": "julia"
  }
 },
 "nbformat": 4,
 "nbformat_minor": 2
}
