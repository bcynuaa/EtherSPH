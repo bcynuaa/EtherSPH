{
 "cells": [
  {
   "cell_type": "code",
   "execution_count": null,
   "metadata": {},
   "outputs": [],
   "source": [
    "#=\n",
    "  @ author: bcynuaa\n",
    "  @ date: 2023-11-23 22:05:44\n",
    "  @ description:\n",
    " =#\n",
    "\n",
    "abstract type X end\n",
    "\n",
    "struct A <: X x end\n",
    "struct B <: X x end\n",
    "\n",
    "f(a::X, b::X) = a.x + b.x + 300;\n",
    "f(a1::A, a2::A) = a1.x + a2.x + 100;\n",
    "f(a1::A, b1::B) = a1.x + b1.x + 200;\n",
    "f(b1::B, b2::B) = b1.x + b2.x + 400;\n",
    "\n",
    "a1 = A(1);\n",
    "a2 = A(2);\n",
    "a3 = B(3);\n",
    "a4 = B(4);\n",
    "\n",
    "vec::Vector{X} = [a1, a2, a3, a4];\n",
    "\n",
    "ma = zeros(4, 4);\n",
    "for i = 1:4\n",
    "    for j = 1:4\n",
    "        ma[i, j] = f(vec[i], vec[j]);\n",
    "    end\n",
    "end\n",
    "\n",
    "ma"
   ]
  },
  {
   "cell_type": "code",
   "execution_count": null,
   "metadata": {},
   "outputs": [],
   "source": [
    "t::Vector{X} = [a1, a2]"
   ]
  },
  {
   "cell_type": "code",
   "execution_count": null,
   "metadata": {},
   "outputs": [],
   "source": [
    "t[1] |> typeof"
   ]
  },
  {
   "cell_type": "code",
   "execution_count": null,
   "metadata": {},
   "outputs": [],
   "source": [
    "Dict(\n",
    "    Int => [1, 2, 3],\n",
    "    Float64 => [1.0, 2.0, 3.0]\n",
    ")"
   ]
  },
  {
   "cell_type": "code",
   "execution_count": null,
   "metadata": {},
   "outputs": [],
   "source": [
    "A |> typeof"
   ]
  },
  {
   "cell_type": "code",
   "execution_count": null,
   "metadata": {},
   "outputs": [],
   "source": []
  }
 ],
 "metadata": {
  "language_info": {
   "name": "julia"
  }
 },
 "nbformat": 4,
 "nbformat_minor": 2
}
