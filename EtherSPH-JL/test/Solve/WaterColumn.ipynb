{
 "cells": [
  {
   "cell_type": "code",
   "execution_count": null,
   "metadata": {},
   "outputs": [],
   "source": [
    "#=\n",
    "  @ author: bcynuaa\n",
    "  @ date: 2023-11-28 20:42:05\n",
    "  @ description:\n",
    " =#\n",
    "\n",
    " include(\"../../src/EtherSPH.jl\");\n",
    "\n",
    " const dt = 1e-4;\n",
    " const total_step = 10000;\n",
    " const output_step = 100;\n",
    " const dim = 2;\n",
    " const dr = 0.05;\n",
    " const h = 5 * dr;\n",
    " \n",
    " const g = 9.8;\n",
    " const body_force_vec = [0.0, -g];\n",
    " const c_0 = 50.;\n",
    " const rho_0 = 1000.;\n",
    " const p_0 = 0.;\n",
    " const mu_0 = 1e-3;\n",
    " \n",
    " kernel = WendlandC2Kernel(h, dim);\n",
    " wc_liquid_model = WeakCompressibleLiquidModel(c_0, rho_0, p_0, mu_0, dim);\n",
    " forward_euler = ForwardEuler(dt, total_step, output_step);\n",
    " vtp_io = VTPIO(4, \"WaterColumn\", \".vtp\", \"./result/\");\n",
    " \n",
    " const row_fluid_particle_number = 40;\n",
    " const col_fluid_particle_number = 30;\n",
    " const fluid_particle_number = row_fluid_particle_number * col_fluid_particle_number;\n",
    " \n",
    " const water_max_height = row_fluid_particle_number * 2 * dr;\n",
    " \n",
    " fluid_particles = [LiquidParticle(dim) for i in 1: fluid_particle_number];\n",
    " \n",
    " for i_row = 1: row_fluid_particle_number\n",
    "     for j_col = 1: col_fluid_particle_number\n",
    "         index = (i_row - 1) * col_fluid_particle_number + j_col;\n",
    "         fluid_particles[index].x_vec_ .= [2*j_col-1, 2*i_row-1] .* dr;\n",
    "         rho_g_h = rho_0 * g * (water_max_height - fluid_particles[index].x_vec_[2])\n",
    "         fluid_particles[index].p_ = rho_g_h + p_0;\n",
    "         fluid_particles[index].rho_ = rho_g_h / c_0^2 + rho_0;\n",
    "         fluid_particles[index].mass_ = rho_0 * dr^2 * 4;\n",
    "     end\n",
    " end\n",
    " \n",
    " function createBoxBoundary()\n",
    "     each_edge_len_number = 100;\n",
    "     each_edge_thick_number = 10;\n",
    "     each_edge_number = each_edge_len_number * each_edge_thick_number;\n",
    "     bottom_edge_particles = [WallParticle(dim) for i in 1: each_edge_number];\n",
    "     for i in 1: each_edge_len_number, j in 1: each_edge_thick_number\n",
    "         index = (i - 1) * each_edge_thick_number + j;\n",
    "         bottom_edge_particles[index].x_vec_ .= [2*i-1, -2*j+1] .* dr;\n",
    "         bottom_edge_particles[index].x_vec_[1] -= each_edge_thick_number * 2 * dr;\n",
    "     end\n",
    "     top_edge_particles = [WallParticle(dim) for i in 1: each_edge_number];\n",
    "     for i in 1: each_edge_len_number, j in 1: each_edge_thick_number\n",
    "         index = (i - 1) * each_edge_thick_number + j;\n",
    "         top_edge_particles[index].x_vec_ .= [2*i-1, 2*j-1] .* dr;\n",
    "         top_edge_particles[index].x_vec_[2] += 2*dr*(each_edge_len_number-each_edge_thick_number);\n",
    "     end\n",
    "     left_edge_particles = [WallParticle(dim) for i in 1: each_edge_number];\n",
    "     for i in 1: each_edge_len_number, j in 1: each_edge_thick_number\n",
    "         index = (i - 1) * each_edge_thick_number + j;\n",
    "         left_edge_particles[index].x_vec_ .= [-2*j+1, 2*i-1] .* dr;\n",
    "     end\n",
    "     right_edge_particles = [WallParticle(dim) for i in 1: each_edge_number];\n",
    "     for i in 1: each_edge_len_number, j in 1: each_edge_thick_number\n",
    "         index = (i - 1) * each_edge_thick_number + j;\n",
    "         right_edge_particles[index].x_vec_ .= [2*j-1, 2*i-1] .* dr;\n",
    "         right_edge_particles[index].x_vec_[1] += 2*dr*(each_edge_len_number-each_edge_thick_number);\n",
    "         right_edge_particles[index].x_vec_[2] -= 2*each_edge_thick_number*dr;\n",
    "     end\n",
    "     return vcat(bottom_edge_particles, top_edge_particles, left_edge_particles, right_edge_particles);\n",
    " end\n",
    " \n",
    " particle_pool = vcat(fluid_particles, createBoxBoundary()) |> ParticlePool;\n",
    " \n",
    " main() = @inbounds @fastmath solve!(particle_pool, body_force_vec, kernel, wc_liquid_model, forward_euler, vtp_io);"
   ]
  },
  {
   "cell_type": "code",
   "execution_count": null,
   "metadata": {},
   "outputs": [],
   "source": [
    "# for step in 1: 100\n",
    "#     @inbounds @fastmath eachStep!(particle_pool, body_force_vec, kernel, wc_liquid_model, forward_euler)\n",
    "# end"
   ]
  },
  {
   "cell_type": "code",
   "execution_count": null,
   "metadata": {},
   "outputs": [],
   "source": [
    "# using GLMakie"
   ]
  },
  {
   "cell_type": "code",
   "execution_count": null,
   "metadata": {},
   "outputs": [],
   "source": [
    "# x = [p.x_vec_[1] for p in particle_pool.particles_];\n",
    "# y = [p.x_vec_[2] for p in particle_pool.particles_];\n",
    "# c = Float64[]\n",
    "# for p in particle_pool.particles_\n",
    "#     if p isa LiquidParticle\n",
    "#         push!(c, p.p_)\n",
    "#     else\n",
    "#         push!(c, 0.)\n",
    "#     end\n",
    "# end\n",
    "# fig = Figure(resolution = (800, 800))\n",
    "# meshscatter(x, y, markersize = 0.05, color=c)\n",
    "# fig"
   ]
  },
  {
   "cell_type": "code",
   "execution_count": null,
   "metadata": {},
   "outputs": [],
   "source": [
    "trace_fluid_i = 1;\n",
    "trace_wall_i = 1301;\n",
    "pf1 = particle_pool.particles_[trace_fluid_i];\n",
    "pw1 = particle_pool.particles_[trace_wall_i];"
   ]
  },
  {
   "cell_type": "code",
   "execution_count": null,
   "metadata": {},
   "outputs": [],
   "source": [
    "neighbours = findNeighbours(particle_pool, kernel);"
   ]
  },
  {
   "cell_type": "code",
   "execution_count": null,
   "metadata": {},
   "outputs": [],
   "source": [
    "d = Dict()"
   ]
  },
  {
   "cell_type": "code",
   "execution_count": null,
   "metadata": {},
   "outputs": [],
   "source": [
    "for neighbour in neighbours\n",
    "    if neighbour.i_ in keys(d)\n",
    "        push!(d[neighbour.i_], neighbour.j_)\n",
    "    else\n",
    "        d[neighbour.i_] = [neighbour.j_]\n",
    "    end\n",
    "end"
   ]
  },
  {
   "cell_type": "code",
   "execution_count": null,
   "metadata": {},
   "outputs": [],
   "source": [
    "d[1]"
   ]
  },
  {
   "cell_type": "code",
   "execution_count": null,
   "metadata": {},
   "outputs": [],
   "source": [
    "d[1301]"
   ]
  },
  {
   "cell_type": "code",
   "execution_count": null,
   "metadata": {},
   "outputs": [],
   "source": [
    "n1301_1 = ParticleNeighbour(trace_wall_i, trace_fluid_i, particle_pool.particles_[trace_wall_i], particle_pool.particles_[trace_fluid_i], kernel)"
   ]
  },
  {
   "cell_type": "code",
   "execution_count": null,
   "metadata": {},
   "outputs": [],
   "source": [
    "pf1"
   ]
  },
  {
   "cell_type": "code",
   "execution_count": null,
   "metadata": {},
   "outputs": [],
   "source": [
    "pw1"
   ]
  },
  {
   "cell_type": "code",
   "execution_count": null,
   "metadata": {},
   "outputs": [],
   "source": [
    "pressureForce!(pw1, pf1, n1301_1, wc_liquid_model)"
   ]
  },
  {
   "cell_type": "code",
   "execution_count": null,
   "metadata": {},
   "outputs": [],
   "source": [
    "pf1"
   ]
  },
  {
   "cell_type": "code",
   "execution_count": null,
   "metadata": {},
   "outputs": [],
   "source": [
    "pw1"
   ]
  },
  {
   "cell_type": "code",
   "execution_count": null,
   "metadata": {},
   "outputs": [],
   "source": []
  }
 ],
 "metadata": {
  "language_info": {
   "name": "julia"
  }
 },
 "nbformat": 4,
 "nbformat_minor": 2
}
