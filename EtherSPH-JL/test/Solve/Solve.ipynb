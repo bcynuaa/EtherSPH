{
 "cells": [
  {
   "cell_type": "code",
   "execution_count": null,
   "metadata": {},
   "outputs": [],
   "source": [
    "include(\"../../src/EtherSPH.jl\");"
   ]
  },
  {
   "cell_type": "code",
   "execution_count": null,
   "metadata": {},
   "outputs": [],
   "source": [
    "const dim = 2;\n",
    "const dr = 1.5e-2;\n",
    "const influence_radius = 3. * dr;\n",
    "\n",
    "smooth_kernel = SmoothKernel(influence_radius, dim, WendlandC2Kernel);\n",
    "smooth_kernel"
   ]
  },
  {
   "cell_type": "code",
   "execution_count": null,
   "metadata": {},
   "outputs": [],
   "source": [
    "const g = 9.8;\n",
    "const g_vec = [0., -g];\n",
    "const rho_0 = 1000.;\n",
    "const c_0 = 50.;\n",
    "const gamma = 7.;\n",
    "const mu_0 = 8.9e-4;\n",
    "xsph_wc_lm = XSPHWeaklyCompressibleLiquidModel(rho_0, c_0, gamma, mu_0, g_vec);\n",
    "xsph_wc_lm"
   ]
  },
  {
   "cell_type": "code",
   "execution_count": null,
   "metadata": {},
   "outputs": [],
   "source": [
    "const dt = 0.1 * smooth_kernel.h_ / c_0;\n",
    "const total_step = 10000;\n",
    "const output_step = 100;\n",
    "const density_reinitialized_step = 30;\n",
    "dr_forward_euler = DensityReinitializedForwardEuler(dt, total_step, output_step, density_reinitialized_step);\n",
    "dr_forward_euler"
   ]
  },
  {
   "cell_type": "code",
   "execution_count": null,
   "metadata": {},
   "outputs": [],
   "source": [
    "const step_digit = 4;\n",
    "const file_name = \"WaterWallDemoStep\";\n",
    "const file_suffix = \".vtp\";\n",
    "const dir_path = \"./WaterWallDemo/\";\n",
    "const fileld_symbols = [:rho_, :p_, :c_];\n",
    "const fileld_names = [\"Density\", \"Pressure\", \"SoundSpeed\"];\n",
    "vtp_io = VTPIO(step_digit, file_name, file_suffix, dir_path, fileld_symbols, fileld_names);\n",
    "vtp_io"
   ]
  },
  {
   "cell_type": "code",
   "execution_count": null,
   "metadata": {},
   "outputs": [],
   "source": [
    "const x0 = 0.;\n",
    "const y0 = 0.;\n",
    "const fluid_row_number = 20;\n",
    "const fluid_col_number = 10;\n",
    "const fluid_number = fluid_row_number * fluid_col_number;\n",
    "const fluid_height = fluid_row_number * dr;\n",
    "function createFluidParticles()\n",
    "    particles = [LiquidParticle(2) for i in 1: fluid_number];\n",
    "    for i_row in 1: fluid_row_number, j_col in 1: fluid_col_number\n",
    "        index = (i_row - 1) * fluid_col_number + j_col;\n",
    "        particles[index].x_vec_ = [x0 + (j_col - 1) * dr, y0 + (i_row - 1) * dr] .+ dr / 2;\n",
    "        particles[index].p_ = rho_0 * g * (fluid_height - particles[index].x_vec_[2]);\n",
    "        particles[index].rho_ = (particles[index].p_ / xsph_wc_lm.b_ + 1.)^(1. / gamma) * rho_0;\n",
    "        updatePressure!(particles[index], xsph_wc_lm);\n",
    "        particles[index].mass_ = rho_0 * dr^2;\n",
    "    end\n",
    "    return particles;\n",
    "end\n",
    "fluid_particles = createFluidParticles();"
   ]
  },
  {
   "cell_type": "code",
   "execution_count": null,
   "metadata": {},
   "outputs": [],
   "source": [
    "const bottom_wall_row_number = 5;\n",
    "const bottom_wall_col_number = 40;\n",
    "const bottom_wall_number = bottom_wall_row_number * bottom_wall_col_number;\n",
    "function createBottomWallParticles()\n",
    "    particles = [WallParticle(2) for i in 1: bottom_wall_number];\n",
    "    for i_row in 1: bottom_wall_row_number, j_col in 1: bottom_wall_col_number\n",
    "        index = (i_row - 1) * bottom_wall_col_number + j_col;\n",
    "        particles[index].x_vec_ = [x0 + (j_col - 1) * dr, y0 - dr * i_row] .+ dr / 2;\n",
    "        particles[index].normal_vec_ = [0., 1.];\n",
    "        particles[index].gap_ = dr;\n",
    "    end\n",
    "    return particles;\n",
    "end\n",
    "bottom_wall_particles = createBottomWallParticles();"
   ]
  },
  {
   "cell_type": "code",
   "execution_count": null,
   "metadata": {},
   "outputs": [],
   "source": [
    "const left_wall_row_number = 30 + bottom_wall_row_number * 2;\n",
    "const left_wall_col_number = bottom_wall_row_number;\n",
    "const left_wall_number = left_wall_row_number * left_wall_col_number;\n",
    "function createLeftWallParticles()\n",
    "    particles = [WallParticle(2) for i in 1: left_wall_number];\n",
    "    for i_row in 1: left_wall_row_number, j_col in 1: left_wall_col_number\n",
    "        index = (i_row - 1) * left_wall_col_number + j_col;\n",
    "        particles[index].x_vec_ = [x0 - dr * j_col, y0 + (i_row - 1) * dr] .+ dr / 2;\n",
    "        particles[index].x_vec_[2] -= dr * bottom_wall_row_number;\n",
    "        particles[index].normal_vec_ = [1., 0.];\n",
    "        particles[index].gap_ = dr;\n",
    "    end\n",
    "    return particles;\n",
    "end\n",
    "left_wall_particles = createLeftWallParticles();"
   ]
  },
  {
   "cell_type": "code",
   "execution_count": null,
   "metadata": {},
   "outputs": [],
   "source": [
    "right_wall_particles = deepcopy(left_wall_particles);\n",
    "for particle in right_wall_particles\n",
    "    particle.x_vec_[1] += dr * (bottom_wall_col_number + bottom_wall_row_number);\n",
    "    particle.normal_vec_ = [-1., 0.];\n",
    "end"
   ]
  },
  {
   "cell_type": "code",
   "execution_count": null,
   "metadata": {},
   "outputs": [],
   "source": [
    "top_wall_particles = deepcopy(bottom_wall_particles);\n",
    "for particle in top_wall_particles\n",
    "    particle.x_vec_[2] += dr * (left_wall_row_number - bottom_wall_row_number);\n",
    "    particle.normal_vec_ = [0., -1.];\n",
    "end"
   ]
  },
  {
   "cell_type": "code",
   "execution_count": null,
   "metadata": {},
   "outputs": [],
   "source": [
    "wall_particles = vcat(bottom_wall_particles, left_wall_particles, right_wall_particles, top_wall_particles);"
   ]
  },
  {
   "cell_type": "code",
   "execution_count": null,
   "metadata": {},
   "outputs": [],
   "source": [
    "particles = [fluid_particles, wall_particles];"
   ]
  },
  {
   "cell_type": "code",
   "execution_count": null,
   "metadata": {},
   "outputs": [],
   "source": [
    "particles"
   ]
  },
  {
   "cell_type": "code",
   "execution_count": null,
   "metadata": {},
   "outputs": [],
   "source": [
    "writeVTP(0, 0., vtp_io, particles);"
   ]
  },
  {
   "cell_type": "code",
   "execution_count": null,
   "metadata": {},
   "outputs": [],
   "source": [
    "# @fastmath solve!(particles, smooth_kernel, xsph_wc_lm, dr_forward_euler, vtp_io);"
   ]
  }
 ],
 "metadata": {
  "language_info": {
   "name": "julia"
  }
 },
 "nbformat": 4,
 "nbformat_minor": 2
}
