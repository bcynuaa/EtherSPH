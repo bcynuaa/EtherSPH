{
 "cells": [
  {
   "cell_type": "code",
   "execution_count": null,
   "metadata": {},
   "outputs": [],
   "source": [
    "import pyvista as pv\n",
    "pv.set_jupyter_backend('static')\n",
    "pv.start_xvfb()\n",
    "pv.set_plot_theme(\"document\")"
   ]
  },
  {
   "cell_type": "code",
   "execution_count": null,
   "metadata": {},
   "outputs": [],
   "source": [
    "file = \"result/WaterColumn0280.vtp\"\n",
    "mesh = pv.read(file)\n",
    "mesh.point_data[\"VelocityX\"] = mesh.point_data[\"Velocity\"][:, 0]\n",
    "mesh.point_data[\"VelocityY\"] = mesh.point_data[\"Velocity\"][:, 1]\n",
    "mesh"
   ]
  },
  {
   "cell_type": "code",
   "execution_count": null,
   "metadata": {},
   "outputs": [],
   "source": [
    "plotter = pv.Plotter(notebook=True)\n",
    "plotter.add_mesh(mesh, scalars=\"Velocity\", cmap=\"jet\")\n",
    "plotter.camera_position = \"XY\"\n",
    "plotter.show(jupyter_backend=\"static\")"
   ]
  },
  {
   "cell_type": "code",
   "execution_count": null,
   "metadata": {},
   "outputs": [],
   "source": []
  }
 ],
 "metadata": {
  "language_info": {
   "name": "python"
  }
 },
 "nbformat": 4,
 "nbformat_minor": 2
}
