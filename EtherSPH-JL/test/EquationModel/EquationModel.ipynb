{
 "cells": [
  {
   "cell_type": "code",
   "execution_count": null,
   "metadata": {},
   "outputs": [],
   "source": [
    "include(\"../../src/EtherSPH.jl\");\n",
    "using BenchmarkTools;"
   ]
  },
  {
   "cell_type": "code",
   "execution_count": null,
   "metadata": {},
   "outputs": [],
   "source": [
    "rho_0 = 1000.;\n",
    "c_0 = 1500.;\n",
    "gamma = 7.;\n",
    "mu_0 = 8.9e-4;\n",
    "body_force_vec = [0., -9.81];\n",
    "xsph_wc_lm = CommonWeaklyCompressibleLiquidModel(rho_0, c_0, gamma, mu_0, body_force_vec);\n",
    "@code_warntype CommonWeaklyCompressibleLiquidModel(rho_0, c_0, gamma, mu_0, body_force_vec);"
   ]
  },
  {
   "cell_type": "code",
   "execution_count": null,
   "metadata": {},
   "outputs": [],
   "source": []
  }
 ],
 "metadata": {
  "language_info": {
   "name": "julia"
  }
 },
 "nbformat": 4,
 "nbformat_minor": 2
}
