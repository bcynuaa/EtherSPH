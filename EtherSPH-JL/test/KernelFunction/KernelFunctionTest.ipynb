{
 "cells": [
  {
   "cell_type": "code",
   "execution_count": null,
   "metadata": {},
   "outputs": [],
   "source": [
    "using Plots;\n",
    "include(\"../../src/EtherSPH.jl\");"
   ]
  },
  {
   "cell_type": "code",
   "execution_count": null,
   "metadata": {},
   "outputs": [],
   "source": [
    "const influence_radius = 0.1;\n",
    "const dim = 2;\n",
    "\n",
    "cs_kernel = CubicSplineKernel(influence_radius, dim);\n",
    "gs_kernel = GaussianKernel(influence_radius, dim);\n",
    "w2_kernel = WendlandC2Kernel(influence_radius, dim);\n",
    "w4_kernel = WendlandC4Kernel(influence_radius, dim);\n",
    "kernels = [cs_kernel, gs_kernel, w2_kernel, w4_kernel];\n",
    "kernel_names = [\"Cubic Spline\", \"Gaussian\", \"Wendland C2\", \"Wendland C4\"];"
   ]
  },
  {
   "cell_type": "markdown",
   "metadata": {},
   "source": [
    "# Kernel Value"
   ]
  },
  {
   "cell_type": "code",
   "execution_count": null,
   "metadata": {},
   "outputs": [],
   "source": [
    "const n = 101;\n",
    "const x = LinRange(0., influence_radius, n);\n",
    "kernel_value_plot = plot(title=raw\"Kernel Function $\\frac{r}{h}-W\\left(\\frac{r}{h}\\right)$\", xlabel=raw\"$r/h$\", ylabel=raw\"$W(r/h)$\", legend=:topright);\n",
    "for i = 1: length(kernels)\n",
    "    kernel_value_plot = plot!(kernel_value_plot, x, [kernelValue(item, kernels[i]) for item in x], label=kernel_names[i]);\n",
    "end\n",
    "plot(kernel_value_plot)"
   ]
  },
  {
   "cell_type": "markdown",
   "metadata": {},
   "source": [
    "# Kernel Value Gradient"
   ]
  },
  {
   "cell_type": "code",
   "execution_count": null,
   "metadata": {},
   "outputs": [],
   "source": [
    "kernel_value_gradient_plot = plot(title=raw\"Kernel Function Gradient $\\frac{r}{h}-\\frac{1}{h}W^\\prime\\left(\\frac{r}{h}\\right)$\", xlabel=raw\"$r/h$\", ylabel=raw\"$\\frac{1}{h}W^\\prime(r/h)$\", legend=:bottomright);\n",
    "for i = 1: length(kernels)\n",
    "    kernel_value_gradient_plot = plot!(kernel_value_gradient_plot, x, [kernelGradient(item, kernels[i]) for item in x], label=kernel_names[i]);\n",
    "end\n",
    "plot(kernel_value_gradient_plot)"
   ]
  }
 ],
 "metadata": {
  "language_info": {
   "name": "julia"
  }
 },
 "nbformat": 4,
 "nbformat_minor": 2
}
