{
 "cells": [
  {
   "cell_type": "code",
   "execution_count": null,
   "metadata": {},
   "outputs": [],
   "source": [
    "import os\n",
    "import pyvista as pv\n",
    "import numpy as np\n",
    "import matplotlib.pyplot as plt\n",
    "import pandas as pd\n",
    "pv.set_jupyter_backend('static')\n",
    "pv.start_xvfb()\n",
    "pv.set_plot_theme(\"document\")"
   ]
  },
  {
   "cell_type": "code",
   "execution_count": null,
   "metadata": {},
   "outputs": [],
   "source": [
    "re400_n50_path = \"LidDrivenCavityDataRe400N50half\"\n",
    "re400_n50_file_list = os.listdir(re400_n50_path)\n",
    "re400_n50_file_list.sort()\n",
    "re400_n50_mesh = pv.read(os.path.join(re400_n50_path, re400_n50_file_list[-1]))\n",
    "re400_n50_mesh.point_data[\"U\"] = re400_n50_mesh.point_data[\"Velocity\"][:, 0]\n",
    "re400_n50_mesh.point_data[\"V\"] = re400_n50_mesh.point_data[\"Velocity\"][:, 1]\n",
    "re400_n50_mesh"
   ]
  },
  {
   "cell_type": "code",
   "execution_count": null,
   "metadata": {},
   "outputs": [],
   "source": [
    "re400_n100_path = \"LidDrivenCavityDataRe400N100half\"\n",
    "re400_n100_file_list = os.listdir(re400_n100_path)\n",
    "re400_n100_file_list.sort()\n",
    "re400_n100_mesh = pv.read(os.path.join(re400_n100_path, re400_n100_file_list[-1]))\n",
    "re400_n100_mesh.point_data[\"U\"] = re400_n100_mesh.point_data[\"Velocity\"][:, 0]\n",
    "re400_n100_mesh.point_data[\"V\"] = re400_n100_mesh.point_data[\"Velocity\"][:, 1]\n",
    "re400_n100_mesh"
   ]
  },
  {
   "cell_type": "code",
   "execution_count": null,
   "metadata": {},
   "outputs": [],
   "source": [
    "def getMiddleU(mesh, n, radius=0.03):\n",
    "    x_middle = np.ones(n) * 0.5\n",
    "    y_middle = np.linspace(0.0, 1.0, n)\n",
    "    z_middle = np.zeros(n)\n",
    "    grid = pv.StructuredGrid(np.column_stack((x_middle, y_middle, z_middle)))\n",
    "    grid = grid.interpolate(mesh, radius=radius, sharpness=0.01)\n",
    "    return y_middle, grid.point_data[\"U\"]\n",
    "    pass\n",
    "\n",
    "def getMiddleV(mesh, n, radius=0.03):\n",
    "    x_middle = np.linspace(0.0, 1.0, n)\n",
    "    y_middle = np.ones(n) * 0.5\n",
    "    z_middle = np.zeros(n)\n",
    "    grid = pv.StructuredGrid(np.column_stack((x_middle, y_middle, z_middle)))\n",
    "    grid = grid.interpolate(mesh, radius=radius, sharpness=0.01)\n",
    "    return x_middle, grid.point_data[\"V\"]\n",
    "    pass"
   ]
  },
  {
   "cell_type": "code",
   "execution_count": null,
   "metadata": {},
   "outputs": [],
   "source": [
    "ref_u = pd.read_csv(\"u_middle_ref.dat\", delim_whitespace=True)\n",
    "ref_u.T"
   ]
  },
  {
   "cell_type": "code",
   "execution_count": null,
   "metadata": {},
   "outputs": [],
   "source": [
    "re400_n50_y, re400_n50_u = getMiddleU(re400_n50_mesh, 51, 0.02*3)\n",
    "re400_n100_y, re400_n100_u = getMiddleU(re400_n100_mesh, 101, 0.01*3)"
   ]
  },
  {
   "cell_type": "code",
   "execution_count": null,
   "metadata": {},
   "outputs": [],
   "source": [
    "plt.figure(figsize=(8, 6), facecolor=\"white\")\n",
    "plt.plot(re400_n50_y, re400_n50_u, label=\"SPH N=50\", color=\"blue\")\n",
    "plt.plot(re400_n100_y, re400_n100_u, label=\"SPH N=100\", color=\"green\")\n",
    "plt.scatter(ref_u[\"y\"], ref_u[\"Re400\"], label=\"Reference: Ghia. 1980\", color=\"red\", zorder=10)\n",
    "plt.grid()\n",
    "plt.legend()\n",
    "plt.xlabel(\"y\")\n",
    "plt.ylabel(\"u\")\n",
    "plt.title(\"Re=400\")\n",
    "plt.show()"
   ]
  },
  {
   "cell_type": "code",
   "execution_count": null,
   "metadata": {},
   "outputs": [],
   "source": [
    "ref_v = pd.read_csv(\"v_middle_ref.dat\", delim_whitespace=True)\n",
    "ref_v.T"
   ]
  },
  {
   "cell_type": "code",
   "execution_count": null,
   "metadata": {},
   "outputs": [],
   "source": [
    "re400_n50_x, re400_n50_v = getMiddleV(re400_n50_mesh, 51, 0.02*3)\n",
    "re400_n100_x, re400_n100_v = getMiddleV(re400_n100_mesh, 101, 0.01*3)"
   ]
  },
  {
   "cell_type": "code",
   "execution_count": null,
   "metadata": {},
   "outputs": [],
   "source": [
    "plt.figure(figsize=(8, 6), facecolor=\"white\")\n",
    "plt.plot(re400_n50_x, re400_n50_v, label=\"SPH N=50\", color=\"blue\")\n",
    "plt.plot(re400_n100_x, re400_n100_v, label=\"SPH N=100\", color=\"green\")\n",
    "plt.scatter(ref_v[\"x\"], ref_v[\"Re400\"], label=\"Reference: Ghia. 1980\", color=\"red\", zorder=10)\n",
    "plt.grid()\n",
    "plt.legend()\n",
    "plt.xlabel(\"x\")\n",
    "plt.ylabel(\"v\")\n",
    "plt.title(\"Re=400\")\n",
    "plt.show()"
   ]
  },
  {
   "cell_type": "code",
   "execution_count": null,
   "metadata": {},
   "outputs": [],
   "source": []
  }
 ],
 "metadata": {
  "language_info": {
   "name": "python"
  }
 },
 "nbformat": 4,
 "nbformat_minor": 2
}
