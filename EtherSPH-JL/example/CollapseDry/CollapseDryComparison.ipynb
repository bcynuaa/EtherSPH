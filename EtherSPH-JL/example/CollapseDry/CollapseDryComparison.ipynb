{
 "cells": [
  {
   "cell_type": "code",
   "execution_count": null,
   "metadata": {},
   "outputs": [],
   "source": [
    "import os\n",
    "import pyvista as pv\n",
    "import numpy as np\n",
    "import matplotlib.pyplot as plt"
   ]
  },
  {
   "cell_type": "code",
   "execution_count": null,
   "metadata": {},
   "outputs": [],
   "source": [
    "file_path = \"CollapseDryDatahalf/\"\n",
    "file_list = os.listdir(file_path)\n",
    "file_list.sort()"
   ]
  },
  {
   "cell_type": "code",
   "execution_count": null,
   "metadata": {},
   "outputs": [],
   "source": [
    "def readStep(step):\n",
    "    file_name = file_path + file_list[step]\n",
    "    mesh = pv.read(file_name)\n",
    "    return mesh\n",
    "    pass"
   ]
  },
  {
   "cell_type": "code",
   "execution_count": null,
   "metadata": {},
   "outputs": [],
   "source": [
    "water_width = 1.0\n",
    "water_height = 2.0\n",
    "dr = 1e-2\n",
    "water_particles_number = int(water_width * water_height / dr**2)\n",
    "wall_particles_number = readStep(0).n_points - water_particles_number"
   ]
  },
  {
   "cell_type": "code",
   "execution_count": null,
   "metadata": {},
   "outputs": [],
   "source": [
    "def extractWaterHorizontalPosition(t_end):\n",
    "    t_s = []\n",
    "    horizontal_position = []\n",
    "    t = 0.0\n",
    "    step = 0\n",
    "    while t <= t_end:\n",
    "        mesh = readStep(step)\n",
    "        t = mesh.field_data[\"Time\"][0]\n",
    "        t_s.append(t)\n",
    "        water_particles = mesh.points[0: water_particles_number, 1] < 0.55*dr\n",
    "        water_particles = np.where(water_particles == True)[0]\n",
    "        # find the max x of the filtered particles\n",
    "        horizontal_position.append(np.max(mesh.points[water_particles, 0]))\n",
    "        # horizontal_position.append(np.max(mesh.points[0: water_particles_number, 0]))\n",
    "        step += 1\n",
    "        pass\n",
    "    return np.array(t_s), np.array(horizontal_position)\n",
    "    pass\n",
    "t_s, horizontal_position = extractWaterHorizontalPosition(0.7)"
   ]
  },
  {
   "cell_type": "code",
   "execution_count": null,
   "metadata": {},
   "outputs": [],
   "source": [
    "plt.figure(figsize=(8, 4))\n",
    "plt.plot(\n",
    "    t_s * np.sqrt(2*9.81/water_width),\n",
    "    horizontal_position / water_width,\n",
    "    \"k-\", label=\"SPH (this work)\"\n",
    ")\n",
    "plt.scatter(\n",
    "    np.array([\n",
    "        0.5, 1, 1.5, 2, 2.5, 3\n",
    "    ]),\n",
    "    np.array([\n",
    "        1.18, 1.5, 2.0, 2.55, 3.25, 4.0\n",
    "    ]),\n",
    "    color=\"r\", marker=\"o\", label=\"Ref: Fluid mechanics and the SPH method\",\n",
    "    zorder=10\n",
    ")\n",
    "plt.xlabel(\"dimensionless time\", fontsize=12)\n",
    "plt.ylabel(\"dimensionless horizontal position\", fontsize=12)\n",
    "plt.legend()\n",
    "plt.grid()\n",
    "plt.show()"
   ]
  },
  {
   "cell_type": "code",
   "execution_count": null,
   "metadata": {},
   "outputs": [],
   "source": [
    "def extractWaterVerticalPosition(t_end):\n",
    "    t_s = []\n",
    "    vertical_position = []\n",
    "    t = 0.0\n",
    "    step = 0\n",
    "    while t <= t_end:\n",
    "        mesh = readStep(step)\n",
    "        t = mesh.field_data[\"Time\"][0]\n",
    "        t_s.append(t)\n",
    "        water_particles = mesh.points[0: water_particles_number, 0] < dr\n",
    "        water_particles = np.where(water_particles == True)[0]\n",
    "        # find the max x of the filtered particles\n",
    "        vertical_position.append(np.max(mesh.points[water_particles, 1]))\n",
    "        step += 1\n",
    "        pass\n",
    "    return np.array(t_s), np.array(vertical_position)\n",
    "    pass\n",
    "t_s, vertical_position = extractWaterVerticalPosition(0.7)"
   ]
  },
  {
   "cell_type": "code",
   "execution_count": null,
   "metadata": {},
   "outputs": [],
   "source": [
    "plt.figure(figsize=(8, 4))\n",
    "plt.plot(\n",
    "    t_s * np.sqrt(2*9.81/water_width),\n",
    "    vertical_position / water_height,\n",
    "    \"k-\", label=\"SPH (this work)\"\n",
    ")\n",
    "plt.scatter(\n",
    "    np.array([\n",
    "        0.5, 1, 1.5, 2, 2.5, 3\n",
    "    ]),\n",
    "    np.array([\n",
    "        0.96, 0.88, 0.76, 0.66, 0.56, 0.44\n",
    "    ]),\n",
    "    color=\"r\", marker=\"o\", label=\"Ref: Fluid mechanics and the SPH method\",\n",
    "    zorder=10\n",
    ")\n",
    "plt.xlabel(\"dimensionless time\", fontsize=12)\n",
    "plt.ylabel(\"dimensionless vertical position\", fontsize=12)\n",
    "plt.legend()\n",
    "plt.grid()\n",
    "plt.show()"
   ]
  },
  {
   "cell_type": "code",
   "execution_count": null,
   "metadata": {},
   "outputs": [],
   "source": []
  }
 ],
 "metadata": {
  "language_info": {
   "name": "python"
  }
 },
 "nbformat": 4,
 "nbformat_minor": 2
}
