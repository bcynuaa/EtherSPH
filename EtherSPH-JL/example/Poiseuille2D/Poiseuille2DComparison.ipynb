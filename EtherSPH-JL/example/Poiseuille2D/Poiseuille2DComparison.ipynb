{
 "cells": [
  {
   "cell_type": "code",
   "execution_count": null,
   "metadata": {},
   "outputs": [],
   "source": [
    "import os\n",
    "import pyvista as pv\n",
    "import numpy as np\n",
    "import matplotlib.pyplot as plt\n",
    "import pandas as pd\n",
    "pv.set_jupyter_backend('static')\n",
    "pv.start_xvfb()\n",
    "pv.set_plot_theme(\"document\")"
   ]
  },
  {
   "cell_type": "code",
   "execution_count": null,
   "metadata": {},
   "outputs": [],
   "source": [
    "class Poiseuille2DAnalyticalSolution:\n",
    "    \n",
    "    def __init__(self, L, mu, rho, ax, order):\n",
    "        self.L = L\n",
    "        self.mu = mu\n",
    "        self.rho = rho\n",
    "        self.nu = mu/rho\n",
    "        self.ax = ax\n",
    "        self.order = order\n",
    "        pass\n",
    "    \n",
    "    def getU(self, t, n_nodes):\n",
    "        y = np.linspace(0, self.L, n_nodes)\n",
    "        u = np.zeros(n_nodes) + self.ax/2/self.nu * y * (self.L - y)\n",
    "        for n in range(self.order):\n",
    "            u -= 4*self.ax*self.L**2 / self.nu/np.pi**3/(2*n+1)**3 * np.sin((2*n+1)*np.pi/self.L*y) * np.exp(-(2*n+1)**2*np.pi**2/self.L**2*self.nu*t)\n",
    "            pass\n",
    "        return y, u\n",
    "        pass\n",
    "    \n",
    "    pass"
   ]
  },
  {
   "cell_type": "code",
   "execution_count": null,
   "metadata": {},
   "outputs": [],
   "source": [
    "L = 0.01\n",
    "mu = 1e-3\n",
    "rho = 1e3\n",
    "ax = 8e-5\n",
    "order = 100\n",
    "poiseuille_2d = Poiseuille2DAnalyticalSolution(L, mu, rho, ax, order)\n",
    "ts = np.array([2, 5.5, 9.5, 16])\n",
    "# ts = np.array([2, 5.5, 9.5])\n",
    "analytical_n_nodes = 21\n",
    "us = np.zeros((len(ts), analytical_n_nodes))\n",
    "ys = np.zeros((len(ts), analytical_n_nodes))\n",
    "for i, t in enumerate(ts):\n",
    "    ys[i], us[i] = poiseuille_2d.getU(t, analytical_n_nodes)\n",
    "    pass"
   ]
  },
  {
   "cell_type": "code",
   "execution_count": null,
   "metadata": {},
   "outputs": [],
   "source": [
    "file_path = \"Poiseuille2DDatahalf/\"\n",
    "file_list = os.listdir(file_path)\n",
    "file_list.sort()\n",
    "\n",
    "def readStep(step):\n",
    "    file_name = file_path + file_list[step]\n",
    "    mesh = pv.read(file_name)\n",
    "    return mesh\n",
    "    pass"
   ]
  },
  {
   "cell_type": "code",
   "execution_count": null,
   "metadata": {},
   "outputs": [],
   "source": [
    "mesh = readStep(1)\n",
    "mesh.field_data[\"Time\"]"
   ]
  },
  {
   "cell_type": "code",
   "execution_count": null,
   "metadata": {},
   "outputs": [],
   "source": [
    "L = 0.01\n",
    "dr = L / 80\n",
    "def getUFromMeshAtTime(t, x_position, n):\n",
    "    i = 0\n",
    "    cur_t = 0\n",
    "    while cur_t < t:\n",
    "        mesh = readStep(i)\n",
    "        mesh.point_data[\"U\"] = mesh.point_data[\"Velocity\"][:, 0]\n",
    "        cur_t = mesh.field_data[\"Time\"][0]\n",
    "        i += 1\n",
    "        pass\n",
    "    x = np.zeros(n) + x_position\n",
    "    # y = np.linspace(0, L, n)\n",
    "    y = np.linspace(0, L, n)\n",
    "    z = np.zeros(n)\n",
    "    sample_mesh = pv.StructuredGrid(np.column_stack((x, y, z)))\n",
    "    sample_mesh = sample_mesh.interpolate(mesh, radius=dr*3)\n",
    "    u = sample_mesh[\"U\"]\n",
    "    return y, u\n",
    "    pass"
   ]
  },
  {
   "cell_type": "code",
   "execution_count": null,
   "metadata": {},
   "outputs": [],
   "source": [
    "x_pos = 9*L\n",
    "n_sample = 81\n",
    "us_sph = np.zeros((len(ts), n_sample))\n",
    "ys_sph = np.zeros((len(ts), n_sample))\n",
    "for i, t in enumerate(ts):\n",
    "    ys_sph[i], us_sph[i] = getUFromMeshAtTime(t, x_pos, n_sample)\n",
    "    pass"
   ]
  },
  {
   "cell_type": "code",
   "execution_count": null,
   "metadata": {},
   "outputs": [],
   "source": [
    "plt.figure(figsize=(10, 5), facecolor='white')\n",
    "\n",
    "for i, t in enumerate(ts):\n",
    "    plt.plot(us_sph[i], ys_sph[i], label=f\"t={t}-SPH\")\n",
    "    plt.scatter(us[i], ys[i], label=f\"t={t}-Morris, Analytical\", zorder=10, s=20, alpha=0.7)\n",
    "    pass\n",
    "\n",
    "# legend outside\n",
    "plt.legend(loc= 'upper center', bbox_to_anchor=(0.5, -0.05), fancybox=True, shadow=True, ncol=4)\n",
    "plt.grid()\n",
    "plt.show()"
   ]
  },
  {
   "cell_type": "code",
   "execution_count": null,
   "metadata": {},
   "outputs": [],
   "source": [
    "# mesh = readStep(213)\n",
    "latest_file_name = file_list[-1]\n",
    "mesh = pv.read(file_path + latest_file_name)\n",
    "mesh.point_data[\"U\"] = mesh.point_data[\"Velocity\"][:, 0]\n",
    "mesh.point_data[\"V\"] = mesh.point_data[\"Velocity\"][:, 1]\n",
    "mesh"
   ]
  },
  {
   "cell_type": "markdown",
   "metadata": {},
   "source": [
    "# Poiseuille 2D\n",
    "\n",
    "assumptions:\n",
    "\n",
    "- $\\frac{\\partial }{\\partial x} = 0$, each plate along x-axis is the same\n",
    "- $v = 0$\n",
    "- when steady, $\\frac{\\partial }{\\partial t} = 0$\n",
    "- $a$ is along $x$-axis (also can be seen as a constant pressure gradient along $x$-axis $dp/dx$)\n",
    "- $u(0) = u(L) = 0$\n",
    "\n",
    "Thus the equation is reduced to:\n",
    "$$\n",
    "\\frac{\\mathrm{d}^2 u}{\\mathrm{d} y^2} + \\frac{a}{\\nu} = 0\n",
    "$$\n",
    "\n",
    "The solution is:\n",
    "$$\n",
    "u(y) = \\frac{a}{2\\nu}y(L-y)\n",
    "$$\n",
    "\n",
    "thus $U_{\\max} = \\frac{a}{8\\nu}L^2$"
   ]
  },
  {
   "cell_type": "code",
   "execution_count": null,
   "metadata": {},
   "outputs": [],
   "source": [
    "# L = 0.01\n",
    "# n_nodes = 51\n",
    "# x = np.zeros(n_nodes) + L * 8\n",
    "# y = np.linspace(0, L, n_nodes)\n",
    "# z = np.zeros(n_nodes)\n",
    "# structured_mesh = pv.StructuredGrid(np.column_stack((x, y, z)))\n",
    "# sampled_points = structured_mesh.interpolate(mesh, radius = L/20*3)\n",
    "# sampled_points"
   ]
  },
  {
   "cell_type": "code",
   "execution_count": null,
   "metadata": {},
   "outputs": [],
   "source": [
    "# plt.figure()\n",
    "# plt.plot(sampled_points.point_data[\"U\"], y, color=\"k\", lw=2)\n",
    "# plt.grid()\n",
    "# plt.show()"
   ]
  },
  {
   "cell_type": "code",
   "execution_count": null,
   "metadata": {},
   "outputs": [],
   "source": []
  }
 ],
 "metadata": {
  "language_info": {
   "name": "python"
  }
 },
 "nbformat": 4,
 "nbformat_minor": 2
}
